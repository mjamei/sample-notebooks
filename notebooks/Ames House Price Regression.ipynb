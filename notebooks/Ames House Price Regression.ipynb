{
 "cells": [
  {
   "cell_type": "markdown",
   "metadata": {},
   "source": [
    "# House price Regression\n",
    "\n",
    "Predict house price from various characteristic of the house.\n",
    "\n",
    "Based on Ames, Iowa dataset"
   ]
  },
  {
   "cell_type": "code",
   "execution_count": 1,
   "metadata": {},
   "outputs": [
    {
     "name": "stdout",
     "output_type": "stream",
     "text": [
      "Populating the interactive namespace from numpy and matplotlib\n"
     ]
    }
   ],
   "source": [
    "%pylab inline\n",
    "%load_ext autoreload\n",
    "%autoreload 2\n",
    "\n",
    "import numpy as np\n",
    "import pandas as pd\n",
    "import matplotlib.pylab as plt\n",
    "from sklearn.model_selection import train_test_split\n",
    "from scipy.stats import skew\n",
    "pd.set_option('display.expand_frame_repr', False)\n",
    "pd.set_option('display.precision', 2)\n"
   ]
  },
  {
   "cell_type": "markdown",
   "metadata": {},
   "source": [
    "## Data preparation\n",
    "\n",
    "Add a new feature, and split train-test. Create a validation set."
   ]
  },
  {
   "cell_type": "code",
   "execution_count": 2,
   "metadata": {},
   "outputs": [],
   "source": [
    "def clean_data(data, is_train_data=True):\n",
    "    data['TotalSF'] = data['TotalBsmtSF'] + data['1stFlrSF'] + data['2ndFlrSF']\n",
    "    if is_train_data == True:\n",
    "        data = data[data.GrLivArea < 4000]        \n",
    "    return data"
   ]
  },
  {
   "cell_type": "code",
   "execution_count": 3,
   "metadata": {},
   "outputs": [],
   "source": [
    "df = pd.read_csv('data/ames/train.csv')\n",
    "df[\"LogSalePrice\"] = np.log1p(df[\"SalePrice\"])\n",
    "numeric_feats = df.dtypes[df.dtypes != \"object\"].index\n",
    "\n",
    "skewed_feats = df[numeric_feats].apply(lambda x: skew(x.dropna())) #compute skewness\n",
    "skewed_feats = skewed_feats[skewed_feats > 0.75]\n",
    "skewed_feats = skewed_feats.index\n",
    "\n",
    "df[skewed_feats] = np.log1p(df[skewed_feats])\n",
    "df = pd.get_dummies(df)\n",
    "df = df.fillna(df.mean())"
   ]
  },
  {
   "cell_type": "code",
   "execution_count": 4,
   "metadata": {},
   "outputs": [],
   "source": [
    "y = df['LogSalePrice']\n",
    "X = df.drop(['Id', 'SalePrice', 'LogSalePrice'], axis=1)"
   ]
  },
  {
   "cell_type": "code",
   "execution_count": 5,
   "metadata": {},
   "outputs": [],
   "source": [
    "X_train, X_test, y_train, y_test = train_test_split(X, y, test_size=0.3, random_state=56)"
   ]
  },
  {
   "cell_type": "markdown",
   "metadata": {},
   "source": [
    "# ML Experiment\n",
    "\n",
    "Run with different hyperparams and pick the best."
   ]
  },
  {
   "cell_type": "code",
   "execution_count": 6,
   "metadata": {},
   "outputs": [],
   "source": [
    "from sklearn.linear_model import Lasso, LassoCV\n",
    "from sklearn.metrics import r2_score\n",
    "import itertools\n",
    "import operator"
   ]
  },
  {
   "cell_type": "code",
   "execution_count": 7,
   "metadata": {},
   "outputs": [],
   "source": [
    "from sklearn.model_selection import cross_val_score\n",
    "\n",
    "def rmse_cv(model):\n",
    "    rmse= np.sqrt(-cross_val_score(model, X_train, y_train, scoring=\"neg_mean_squared_error\", cv = 5))\n",
    "    return(rmse)"
   ]
  },
  {
   "cell_type": "code",
   "execution_count": 8,
   "metadata": {},
   "outputs": [
    {
     "data": {
      "text/plain": [
       "0.11080537480778976"
      ]
     },
     "execution_count": 8,
     "metadata": {},
     "output_type": "execute_result"
    }
   ],
   "source": [
    "model_lasso = LassoCV(cv=5, alphas = [1, 0.1, 0.001, 0.0005]).fit(X_train, y_train)\n",
    "rmse_cv(model_lasso).mean()"
   ]
  },
  {
   "cell_type": "code",
   "execution_count": 9,
   "metadata": {},
   "outputs": [
    {
     "name": "stdout",
     "output_type": "stream",
     "text": [
      "Lasso picked 109 variables and eliminated the other 179 variables\n"
     ]
    }
   ],
   "source": [
    "coef = pd.Series(model_lasso.coef_, index = X_train.columns)\n",
    "print(\"Lasso picked \" + str(sum(coef != 0)) + \" variables and eliminated the other \" +  str(sum(coef == 0)) + \" variables\")\n"
   ]
  },
  {
   "cell_type": "code",
   "execution_count": 42,
   "metadata": {},
   "outputs": [
    {
     "data": {
      "text/plain": [
       "Text(0.5, 1.0, 'Coefficients in the Lasso Model')"
      ]
     },
     "execution_count": 42,
     "metadata": {},
     "output_type": "execute_result"
    },
    {
     "data": {
      "image/png": "[encoded data removed]",
      "text/plain": [
       "<Figure size 576x720 with 1 Axes>"
      ]
     },
     "metadata": {},
     "output_type": "display_data"
    }
   ],
   "source": [
    "imp_coef = pd.concat([coef.sort_values().head(2),\n",
    "                     coef.sort_values().tail(2)])\n",
    "matplotlib.rcParams['figure.figsize'] = (8.0, 10.0)\n",
    "imp_coef.plot(kind = \"barh\")\n",
    "plt.title(\"Coefficients in the Lasso Model\")"
   ]
  },
  {
   "cell_type": "code",
   "execution_count": 43,
   "metadata": {},
   "outputs": [
    {
     "data": {
      "text/plain": [
       "0.1102932218570903"
      ]
     },
     "execution_count": 43,
     "metadata": {},
     "output_type": "execute_result"
    }
   ],
   "source": [
    "mini_X_train = X_train.loc[:, imp_coef.index]\n",
    "mini_X_test = X_test.loc[:, imp_coef.index]\n",
    "mini_lasso = Lasso(alpha=model_lasso.alpha_).fit(mini_X_train, y_train)\n",
    "rmse_cv(mini_lasso).mean()"
   ]
  },
  {
   "cell_type": "code",
   "execution_count": 44,
   "metadata": {},
   "outputs": [],
   "source": [
    "feature_map = {\n",
    "    \"LotArea\": \"3a6fdeb6e6da11e99130000000000002\", #\n",
    "    \"1stFlrSF\": \"c6c484d8e55a11e9b9ee000000000002\", #\n",
    "}"
   ]
  },
  {
   "cell_type": "code",
   "execution_count": 45,
   "metadata": {},
   "outputs": [],
   "source": [
    "authors_ids = ['5b69b6dee6f111e9a037000000000007']\n",
    "source_datasets = ['f4ded1b0dfca11e9ab5e000000000004'] #\n",
    "neighborhoods = ['99397a46e6f111e9953200000000000a'] #\n",
    "population = 'dd103c38ec6411e99cf6000000000008' #"
   ]
  },
  {
   "cell_type": "markdown",
   "metadata": {},
   "source": [
    "# Submission"
   ]
  },
  {
   "cell_type": "code",
   "execution_count": 46,
   "metadata": {},
   "outputs": [],
   "source": [
    "experiment_name = \"Ames, Iowa housing price regression using top 20 most performant features.\"\n",
    "experiment_lede = \"Lasso model to model house price.\"\n",
    "experiment_description = \"\"\"\n",
    "In this experiment, a Lasso model was trained all the features found in Kaggle's Ames, Iowa housing price dataset.\n",
    "The top 20 most performat features was selected.\n",
    "\"\"\"\n",
    "study_source = \"https://github.com/mjamei/sample-notebooks/blob/master/notebooks/Ames%20Housing%20Price%20Regression.ipynb\""
   ]
  },
  {
   "cell_type": "code",
   "execution_count": 47,
   "metadata": {},
   "outputs": [],
   "source": [
    "import system_client as system\n",
    "from onnxmltools.convert.common.data_types import Int64TensorType\n",
    "num_features = mini_X_test.shape[1]\n",
    "initial_type = [('feature_input', Int64TensorType([1, num_features]))]"
   ]
  },
  {
   "cell_type": "code",
   "execution_count": 48,
   "metadata": {
    "scrolled": true
   },
   "outputs": [
    {
     "name": "stderr",
     "output_type": "stream",
     "text": [
      "The maximum opset needed by this model is only 9.\n",
      "The maximum opset needed by this model is only 1.\n"
     ]
    },
    {
     "name": "stdout",
     "output_type": "stream",
     "text": [
      "EVALUATOR OUTPUT 2019-10-18 14-58-18 Loading the ONNX Model...EVALUATOR OUTPUT 2019-10-18 14-58-18 SUCCESS...\n",
      "EVALUATOR OUTPUT 2019-10-18 14-58-18 Creating descriptive stats for X...EVALUATOR OUTPUT 2019-10-18 14-58-19 SUCCESS...\n",
      "EVALUATOR OUTPUT 2019-10-18 14-58-19 Creating descriptive stats for y...EVALUATOR OUTPUT 2019-10-18 14-58-19 SUCCESS...\n",
      "EVALUATOR OUTPUT 2019-10-18 14-58-19 Calculating model MeanSquaredError...EVALUATOR OUTPUT 2019-10-18 14-58-19 SUCCESS...\n",
      "EVALUATOR OUTPUT 2019-10-18 14-58-19 Calculating model R2Score...EVALUATOR OUTPUT 2019-10-18 14-58-19 SUCCESS...\n",
      "EVALUATOR OUTPUT 2019-10-18 14-58-19 Calculating permutation for MeanSquaredError...EVALUATOR OUTPUT 2019-10-18 14-58-19 SUCCESS...\n",
      "EVALUATOR OUTPUT 2019-10-18 14-58-19 Calculating permutation for R2Score...EVALUATOR OUTPUT 2019-10-18 14-58-19 SUCCESS...\n",
      "EVALUATOR OUTPUT 2019-10-18 14-58-19 Calculating PDP...EVALUATOR OUTPUT 2019-10-18 14-58-20 SUCCESS...\n",
      "EVALUATOR OUTPUT 2019-10-18 14-58-20 Calculating Feature Interactions...EVALUATOR OUTPUT 2019-10-18 14-58-20 SUCCESS...\n",
      "EVALUATOR OUTPUT 2019-10-18 14-58-20 Finished...\n",
      "https://dev-alpha.system.com/write/subgraph/c82bd718f3896ba24e8d4f45bc32dbafbd16c7025a4cc86794e5469dd200bbb4\n"
     ]
    }
   ],
   "source": [
    "with system.SupervisedMLSession(config_path='dev.json', user_auth_path='auth.json') as session1:\n",
    "    evaluation = session1.add_evaluation(mini_lasso, mini_X_test, pd.DataFrame(y_test), initial_types=initial_type)\n",
    "    system_model = session1.add_model(\n",
    "        label='Best model',\n",
    "        algorithm='Lasso',\n",
    "        target_name='LogSalePrice',\n",
    "        model_params=mini_lasso.get_params(),\n",
    "#         source_datasets=source_datasets,\n",
    "#         model_population=population,\n",
    "#         neighborhoods=neighborhoods,\n",
    "        evaluation=evaluation\n",
    "    )\n",
    "#     session1.map_features_to_variables(feature_to_variable_map=feature_map)\n",
    "    session1.add_experiment_metadata(\n",
    "        name=experiment_name,\n",
    "        lede=experiment_lede,\n",
    "        description=experiment_description,\n",
    "        source=study_source\n",
    "    )\n",
    "#     session1.register_remote_evaluator(system_model, mini_lasso, mini_X_test, pd.DataFrame(y_test))\n",
    "    session1.submit()"
   ]
  },
  {
   "cell_type": "code",
   "execution_count": 41,
   "metadata": {},
   "outputs": [
    {
     "ename": "ServerError",
     "evalue": "There was an error in processing your request:: b'{\"message\": \"Object already persisted to s3://system-dev-subgraphs-ps83yho35j8o7tfx88nu1v4q/969de433-7f52-4812-86b1-a11f3bdc184f/in_progress/bd2d0d8731047888060eb989e1c898f15eec3ab60f85933bc8499c391f3ef035/subgraph.pb!\"}\\n'",
     "output_type": "error",
     "traceback": [
      "\u001b[0;31m---------------------------------------------------------------------------\u001b[0m",
      "\u001b[0;31mServerError\u001b[0m                               Traceback (most recent call last)",
      "\u001b[0;32m<ipython-input-41-a2d07615332b>\u001b[0m in \u001b[0;36m<module>\u001b[0;34m\u001b[0m\n\u001b[0;32m----> 1\u001b[0;31m \u001b[0msession1\u001b[0m\u001b[0;34m.\u001b[0m\u001b[0msubmit\u001b[0m\u001b[0;34m(\u001b[0m\u001b[0;34m)\u001b[0m\u001b[0;34m\u001b[0m\u001b[0;34m\u001b[0m\u001b[0m\n\u001b[0m",
      "\u001b[0;32m~/Documents/python-client/src/system_client/models/session.py\u001b[0m in \u001b[0;36msubmit\u001b[0;34m(self)\u001b[0m\n\u001b[1;32m    504\u001b[0m         \u001b[0msender\u001b[0m \u001b[0;34m=\u001b[0m \u001b[0msend\u001b[0m\u001b[0;34m.\u001b[0m\u001b[0mSender\u001b[0m\u001b[0;34m(\u001b[0m\u001b[0mconfig\u001b[0m\u001b[0;34m=\u001b[0m\u001b[0mself\u001b[0m\u001b[0;34m.\u001b[0m\u001b[0mconfig\u001b[0m\u001b[0;34m)\u001b[0m\u001b[0;34m\u001b[0m\u001b[0;34m\u001b[0m\u001b[0m\n\u001b[1;32m    505\u001b[0m         \u001b[0mjson_export\u001b[0m \u001b[0;34m=\u001b[0m \u001b[0mself\u001b[0m\u001b[0;34m.\u001b[0m\u001b[0mcreate_client_output_json\u001b[0m\u001b[0;34m(\u001b[0m\u001b[0;34m)\u001b[0m\u001b[0;34m\u001b[0m\u001b[0;34m\u001b[0m\u001b[0m\n\u001b[0;32m--> 506\u001b[0;31m         \u001b[0mapi_response\u001b[0m \u001b[0;34m=\u001b[0m \u001b[0msender\u001b[0m\u001b[0;34m.\u001b[0m\u001b[0mpost\u001b[0m\u001b[0;34m(\u001b[0m\u001b[0mjson_export\u001b[0m\u001b[0;34m)\u001b[0m\u001b[0;34m\u001b[0m\u001b[0;34m\u001b[0m\u001b[0m\n\u001b[0m\u001b[1;32m    507\u001b[0m         \u001b[0;32mif\u001b[0m \u001b[0mapi_response\u001b[0m\u001b[0;34m[\u001b[0m\u001b[0;34m'upload_urls'\u001b[0m\u001b[0;34m]\u001b[0m\u001b[0;34m:\u001b[0m\u001b[0;34m\u001b[0m\u001b[0;34m\u001b[0m\u001b[0m\n\u001b[1;32m    508\u001b[0m             \u001b[0;32mfor\u001b[0m \u001b[0mfile_to_upload\u001b[0m\u001b[0;34m,\u001b[0m \u001b[0msigned_url\u001b[0m \u001b[0;32min\u001b[0m \u001b[0mapi_response\u001b[0m\u001b[0;34m[\u001b[0m\u001b[0;34m'upload_urls'\u001b[0m\u001b[0;34m]\u001b[0m\u001b[0;34m.\u001b[0m\u001b[0mitems\u001b[0m\u001b[0;34m(\u001b[0m\u001b[0;34m)\u001b[0m\u001b[0;34m:\u001b[0m\u001b[0;34m\u001b[0m\u001b[0;34m\u001b[0m\u001b[0m\n",
      "\u001b[0;32m~/Documents/python-client/src/system_client/api/send.py\u001b[0m in \u001b[0;36mpost\u001b[0;34m(self, payload)\u001b[0m\n\u001b[1;32m     29\u001b[0m         \u001b[0;32melse\u001b[0m\u001b[0;34m:\u001b[0m\u001b[0;34m\u001b[0m\u001b[0;34m\u001b[0m\u001b[0m\n\u001b[1;32m     30\u001b[0m             \u001b[0mmsg\u001b[0m \u001b[0;34m=\u001b[0m \u001b[0;34m'There was an error in processing your request:'\u001b[0m\u001b[0;34m\u001b[0m\u001b[0;34m\u001b[0m\u001b[0m\n\u001b[0;32m---> 31\u001b[0;31m             \u001b[0;32mraise\u001b[0m \u001b[0msystem_exceptions\u001b[0m\u001b[0;34m.\u001b[0m\u001b[0mServerError\u001b[0m\u001b[0;34m(\u001b[0m\u001b[0;34mf'{msg}: {response.content}'\u001b[0m\u001b[0;34m)\u001b[0m\u001b[0;34m\u001b[0m\u001b[0;34m\u001b[0m\u001b[0m\n\u001b[0m\u001b[1;32m     32\u001b[0m \u001b[0;34m\u001b[0m\u001b[0m\n\u001b[1;32m     33\u001b[0m     \u001b[0;32mdef\u001b[0m \u001b[0m_create_recon_url\u001b[0m\u001b[0;34m(\u001b[0m\u001b[0mself\u001b[0m\u001b[0;34m,\u001b[0m \u001b[0msubg_id\u001b[0m\u001b[0;34m)\u001b[0m\u001b[0;34m:\u001b[0m\u001b[0;34m\u001b[0m\u001b[0;34m\u001b[0m\u001b[0m\n",
      "\u001b[0;31mServerError\u001b[0m: There was an error in processing your request:: b'{\"message\": \"Object already persisted to s3://system-dev-subgraphs-ps83yho35j8o7tfx88nu1v4q/969de433-7f52-4812-86b1-a11f3bdc184f/in_progress/bd2d0d8731047888060eb989e1c898f15eec3ab60f85933bc8499c391f3ef035/subgraph.pb!\"}\\n'"
     ]
    }
   ],
   "source": [
    "session1.submit()"
   ]
  },
  {
   "cell_type": "markdown",
   "metadata": {},
   "source": [
    "# Multiple hyperparams"
   ]
  },
  {
   "cell_type": "code",
   "execution_count": 19,
   "metadata": {},
   "outputs": [],
   "source": [
    "experiment2_name = \"Ames, Iowa housing price classifier with various hyperparameters.\"\n",
    "experiment2_lede = \"XBoost model to predict whether a house price is above median.\"\n",
    "experiment2_description = \"\"\"\n",
    "In this experiment, an XGBoost model was trained all the features found in Kaggle's Ames, Iowa housing price dataset.\n",
    "The top 20 most performat features was selected with Gain as the feature contribution method.\n",
    "Same model was trained and tested with different hyper parameters.\n",
    "\"\"\""
   ]
  },
  {
   "cell_type": "code",
   "execution_count": 21,
   "metadata": {
    "scrolled": false
   },
   "outputs": [
    {
     "name": "stdout",
     "output_type": "stream",
     "text": [
      "Setting Mehdi Jamei as an author.\n"
     ]
    },
    {
     "name": "stderr",
     "output_type": "stream",
     "text": [
      "The maximum opset needed by this model is only 1.\n"
     ]
    },
    {
     "name": "stdout",
     "output_type": "stream",
     "text": [
      "EVALUATOR OUTPUT 2019-10-14 16-46-38 Loading the ONNX Model...EVALUATOR OUTPUT 2019-10-14 16-46-39 SUCCESS...\n",
      "EVALUATOR OUTPUT 2019-10-14 16-46-39 Creating descriptive stats for X...EVALUATOR OUTPUT 2019-10-14 16-46-39 SUCCESS...\n",
      "EVALUATOR OUTPUT 2019-10-14 16-46-39 Creating descriptive stats for y...EVALUATOR OUTPUT 2019-10-14 16-46-39 SUCCESS...\n",
      "EVALUATOR OUTPUT 2019-10-14 16-46-40 Calculating model F1Score...EVALUATOR OUTPUT 2019-10-14 16-46-40 SUCCESS...\n",
      "EVALUATOR OUTPUT 2019-10-14 16-46-40 Calculating model AccuracyScore...EVALUATOR OUTPUT 2019-10-14 16-46-40 SUCCESS...\n",
      "EVALUATOR OUTPUT 2019-10-14 16-46-40 Calculating model RocAucScore...EVALUATOR OUTPUT 2019-10-14 16-46-40 SUCCESS...\n",
      "EVALUATOR OUTPUT 2019-10-14 16-46-40 Calculating model RocCurve...EVALUATOR OUTPUT 2019-10-14 16-46-40 SUCCESS...\n",
      "EVALUATOR OUTPUT 2019-10-14 16-46-40 Calculating model ConfusionMatrix...EVALUATOR OUTPUT 2019-10-14 16-46-40 SUCCESS...\n",
      "EVALUATOR OUTPUT 2019-10-14 16-46-40 Calculating permutation for F1Score...EVALUATOR OUTPUT 2019-10-14 16-46-41 SUCCESS...\n",
      "EVALUATOR OUTPUT 2019-10-14 16-46-41 Calculating permutation for AccuracyScore...EVALUATOR OUTPUT 2019-10-14 16-46-42 SUCCESS...\n",
      "EVALUATOR OUTPUT 2019-10-14 16-46-42 Calculating permutation for RocAucScore...EVALUATOR OUTPUT 2019-10-14 16-46-43 SUCCESS...\n",
      "EVALUATOR OUTPUT 2019-10-14 16-46-43 Calculating PDP...EVALUATOR OUTPUT 2019-10-14 16-46-54 SUCCESS...\n",
      "EVALUATOR OUTPUT 2019-10-14 16-46-54 Calculating Feature Interactions...EVALUATOR OUTPUT 2019-10-14 16-47-07 SUCCESS...\n",
      "EVALUATOR OUTPUT 2019-10-14 16-47-07 Finished...\n",
      "Setting The population of the Ames Housing dataset as described in http://jse.amstat.org/v19n3/decock.pdf. as a population.\n",
      "Setting Ames Housing Dataset as a dataset.\n",
      "Setting Real Estate as a neighborhood.\n"
     ]
    },
    {
     "name": "stderr",
     "output_type": "stream",
     "text": [
      "The maximum opset needed by this model is only 1.\n"
     ]
    },
    {
     "name": "stdout",
     "output_type": "stream",
     "text": [
      "EVALUATOR OUTPUT 2019-10-14 16-47-09 Loading the ONNX Model...EVALUATOR OUTPUT 2019-10-14 16-47-09 SUCCESS...\n",
      "EVALUATOR OUTPUT 2019-10-14 16-47-09 Creating descriptive stats for X...EVALUATOR OUTPUT 2019-10-14 16-47-10 SUCCESS...\n",
      "EVALUATOR OUTPUT 2019-10-14 16-47-10 Creating descriptive stats for y...EVALUATOR OUTPUT 2019-10-14 16-47-10 SUCCESS...\n",
      "EVALUATOR OUTPUT 2019-10-14 16-47-10 Calculating model F1Score...EVALUATOR OUTPUT 2019-10-14 16-47-10 SUCCESS...\n",
      "EVALUATOR OUTPUT 2019-10-14 16-47-10 Calculating model AccuracyScore...EVALUATOR OUTPUT 2019-10-14 16-47-10 SUCCESS...\n",
      "EVALUATOR OUTPUT 2019-10-14 16-47-10 Calculating model RocAucScore...EVALUATOR OUTPUT 2019-10-14 16-47-10 SUCCESS...\n",
      "EVALUATOR OUTPUT 2019-10-14 16-47-10 Calculating model RocCurve...EVALUATOR OUTPUT 2019-10-14 16-47-10 SUCCESS...\n",
      "EVALUATOR OUTPUT 2019-10-14 16-47-10 Calculating model ConfusionMatrix...EVALUATOR OUTPUT 2019-10-14 16-47-10 SUCCESS...\n",
      "EVALUATOR OUTPUT 2019-10-14 16-47-10 Calculating permutation for F1Score...EVALUATOR OUTPUT 2019-10-14 16-47-11 SUCCESS...\n",
      "EVALUATOR OUTPUT 2019-10-14 16-47-11 Calculating permutation for AccuracyScore...EVALUATOR OUTPUT 2019-10-14 16-47-13 SUCCESS...\n",
      "EVALUATOR OUTPUT 2019-10-14 16-47-13 Calculating permutation for RocAucScore...EVALUATOR OUTPUT 2019-10-14 16-47-15 SUCCESS...\n",
      "EVALUATOR OUTPUT 2019-10-14 16-47-15 Calculating PDP...EVALUATOR OUTPUT 2019-10-14 16-47-25 SUCCESS...\n",
      "EVALUATOR OUTPUT 2019-10-14 16-47-25 Calculating Feature Interactions...EVALUATOR OUTPUT 2019-10-14 16-47-43 SUCCESS...\n",
      "EVALUATOR OUTPUT 2019-10-14 16-47-43 Finished...\n",
      "Setting The population of the Ames Housing dataset as described in http://jse.amstat.org/v19n3/decock.pdf. as a population.\n",
      "Setting Ames Housing Dataset as a dataset.\n",
      "Setting Real Estate as a neighborhood.\n"
     ]
    },
    {
     "name": "stderr",
     "output_type": "stream",
     "text": [
      "The maximum opset needed by this model is only 1.\n"
     ]
    },
    {
     "name": "stdout",
     "output_type": "stream",
     "text": [
      "EVALUATOR OUTPUT 2019-10-14 16-47-44 Loading the ONNX Model...EVALUATOR OUTPUT 2019-10-14 16-47-45 SUCCESS...\n",
      "EVALUATOR OUTPUT 2019-10-14 16-47-45 Creating descriptive stats for X...EVALUATOR OUTPUT 2019-10-14 16-47-46 SUCCESS...\n",
      "EVALUATOR OUTPUT 2019-10-14 16-47-46 Creating descriptive stats for y...EVALUATOR OUTPUT 2019-10-14 16-47-46 SUCCESS...\n",
      "EVALUATOR OUTPUT 2019-10-14 16-47-46 Calculating model F1Score...EVALUATOR OUTPUT 2019-10-14 16-47-46 SUCCESS...\n",
      "EVALUATOR OUTPUT 2019-10-14 16-47-46 Calculating model AccuracyScore...EVALUATOR OUTPUT 2019-10-14 16-47-46 SUCCESS...\n",
      "EVALUATOR OUTPUT 2019-10-14 16-47-46 Calculating model RocAucScore...EVALUATOR OUTPUT 2019-10-14 16-47-46 SUCCESS...\n",
      "EVALUATOR OUTPUT 2019-10-14 16-47-46 Calculating model RocCurve...EVALUATOR OUTPUT 2019-10-14 16-47-46 SUCCESS...\n",
      "EVALUATOR OUTPUT 2019-10-14 16-47-46 Calculating model ConfusionMatrix...EVALUATOR OUTPUT 2019-10-14 16-47-46 SUCCESS...\n",
      "EVALUATOR OUTPUT 2019-10-14 16-47-46 Calculating permutation for F1Score...EVALUATOR OUTPUT 2019-10-14 16-47-49 SUCCESS...\n",
      "EVALUATOR OUTPUT 2019-10-14 16-47-49 Calculating permutation for AccuracyScore...EVALUATOR OUTPUT 2019-10-14 16-47-51 SUCCESS...\n",
      "EVALUATOR OUTPUT 2019-10-14 16-47-51 Calculating permutation for RocAucScore...EVALUATOR OUTPUT 2019-10-14 16-47-53 SUCCESS...\n",
      "EVALUATOR OUTPUT 2019-10-14 16-47-53 Calculating PDP...EVALUATOR OUTPUT 2019-10-14 16-48-07 SUCCESS...\n",
      "EVALUATOR OUTPUT 2019-10-14 16-48-07 Calculating Feature Interactions...EVALUATOR OUTPUT 2019-10-14 16-48-23 SUCCESS...\n",
      "EVALUATOR OUTPUT 2019-10-14 16-48-23 Finished...\n",
      "Setting The population of the Ames Housing dataset as described in http://jse.amstat.org/v19n3/decock.pdf. as a population.\n",
      "Setting Ames Housing Dataset as a dataset.\n",
      "Setting Real Estate as a neighborhood.\n"
     ]
    },
    {
     "name": "stderr",
     "output_type": "stream",
     "text": [
      "The maximum opset needed by this model is only 1.\n"
     ]
    },
    {
     "name": "stdout",
     "output_type": "stream",
     "text": [
      "EVALUATOR OUTPUT 2019-10-14 16-48-24 Loading the ONNX Model...EVALUATOR OUTPUT 2019-10-14 16-48-24 SUCCESS...\n",
      "EVALUATOR OUTPUT 2019-10-14 16-48-24 Creating descriptive stats for X...EVALUATOR OUTPUT 2019-10-14 16-48-25 SUCCESS...\n",
      "EVALUATOR OUTPUT 2019-10-14 16-48-25 Creating descriptive stats for y...EVALUATOR OUTPUT 2019-10-14 16-48-25 SUCCESS...\n",
      "EVALUATOR OUTPUT 2019-10-14 16-48-25 Calculating model F1Score...EVALUATOR OUTPUT 2019-10-14 16-48-25 SUCCESS...\n",
      "EVALUATOR OUTPUT 2019-10-14 16-48-25 Calculating model AccuracyScore...EVALUATOR OUTPUT 2019-10-14 16-48-25 SUCCESS...\n",
      "EVALUATOR OUTPUT 2019-10-14 16-48-25 Calculating model RocAucScore...EVALUATOR OUTPUT 2019-10-14 16-48-25 SUCCESS...\n",
      "EVALUATOR OUTPUT 2019-10-14 16-48-25 Calculating model RocCurve...EVALUATOR OUTPUT 2019-10-14 16-48-25 SUCCESS...\n",
      "EVALUATOR OUTPUT 2019-10-14 16-48-25 Calculating model ConfusionMatrix...EVALUATOR OUTPUT 2019-10-14 16-48-26 SUCCESS...\n",
      "EVALUATOR OUTPUT 2019-10-14 16-48-26 Calculating permutation for F1Score...EVALUATOR OUTPUT 2019-10-14 16-48-28 SUCCESS...\n",
      "EVALUATOR OUTPUT 2019-10-14 16-48-28 Calculating permutation for AccuracyScore...EVALUATOR OUTPUT 2019-10-14 16-48-30 SUCCESS...\n",
      "EVALUATOR OUTPUT 2019-10-14 16-48-30 Calculating permutation for RocAucScore...EVALUATOR OUTPUT 2019-10-14 16-48-32 SUCCESS...\n",
      "EVALUATOR OUTPUT 2019-10-14 16-48-32 Calculating PDP...EVALUATOR OUTPUT 2019-10-14 16-48-45 SUCCESS...\n",
      "EVALUATOR OUTPUT 2019-10-14 16-48-45 Calculating Feature Interactions...EVALUATOR OUTPUT 2019-10-14 16-49-03 SUCCESS...\n",
      "EVALUATOR OUTPUT 2019-10-14 16-49-04 Finished...\n",
      "Setting The population of the Ames Housing dataset as described in http://jse.amstat.org/v19n3/decock.pdf. as a population.\n",
      "Setting Ames Housing Dataset as a dataset.\n",
      "Setting Real Estate as a neighborhood.\n"
     ]
    },
    {
     "name": "stderr",
     "output_type": "stream",
     "text": [
      "The maximum opset needed by this model is only 1.\n"
     ]
    },
    {
     "name": "stdout",
     "output_type": "stream",
     "text": [
      "EVALUATOR OUTPUT 2019-10-14 16-49-07 Loading the ONNX Model...EVALUATOR OUTPUT 2019-10-14 16-49-07 SUCCESS...\n",
      "EVALUATOR OUTPUT 2019-10-14 16-49-07 Creating descriptive stats for X...EVALUATOR OUTPUT 2019-10-14 16-49-09 SUCCESS...\n",
      "EVALUATOR OUTPUT 2019-10-14 16-49-09 Creating descriptive stats for y...EVALUATOR OUTPUT 2019-10-14 16-49-09 SUCCESS...\n",
      "EVALUATOR OUTPUT 2019-10-14 16-49-09 Calculating model F1Score...EVALUATOR OUTPUT 2019-10-14 16-49-09 SUCCESS...\n",
      "EVALUATOR OUTPUT 2019-10-14 16-49-09 Calculating model AccuracyScore...EVALUATOR OUTPUT 2019-10-14 16-49-10 SUCCESS...\n",
      "EVALUATOR OUTPUT 2019-10-14 16-49-10 Calculating model RocAucScore...EVALUATOR OUTPUT 2019-10-14 16-49-10 SUCCESS...\n",
      "EVALUATOR OUTPUT 2019-10-14 16-49-10 Calculating model RocCurve...EVALUATOR OUTPUT 2019-10-14 16-49-10 SUCCESS...\n",
      "EVALUATOR OUTPUT 2019-10-14 16-49-10 Calculating model ConfusionMatrix...EVALUATOR OUTPUT 2019-10-14 16-49-10 SUCCESS...\n",
      "EVALUATOR OUTPUT 2019-10-14 16-49-10 Calculating permutation for F1Score...EVALUATOR OUTPUT 2019-10-14 16-49-12 SUCCESS...\n",
      "EVALUATOR OUTPUT 2019-10-14 16-49-12 Calculating permutation for AccuracyScore...EVALUATOR OUTPUT 2019-10-14 16-49-14 SUCCESS...\n",
      "EVALUATOR OUTPUT 2019-10-14 16-49-14 Calculating permutation for RocAucScore...EVALUATOR OUTPUT 2019-10-14 16-49-16 SUCCESS...\n",
      "EVALUATOR OUTPUT 2019-10-14 16-49-16 Calculating PDP...EVALUATOR OUTPUT 2019-10-14 16-49-35 SUCCESS...\n",
      "EVALUATOR OUTPUT 2019-10-14 16-49-35 Calculating Feature Interactions...EVALUATOR OUTPUT 2019-10-14 16-49-49 SUCCESS...\n",
      "EVALUATOR OUTPUT 2019-10-14 16-49-49 Finished...\n",
      "Setting The population of the Ames Housing dataset as described in http://jse.amstat.org/v19n3/decock.pdf. as a population.\n",
      "Setting Ames Housing Dataset as a dataset.\n",
      "Setting Real Estate as a neighborhood.\n",
      "Mapping YearBuilt to System Variable Built Year\n",
      "Mapping SalePrice to System Variable House Price is Above Median\n",
      "Mapping FullBath to System Variable Number of Bathrooms in Housing Unit\n",
      "Mapping OverallQual to System Variable Building Quality\n",
      "Mapping GarageFinish_Unf to System Variable Garage is Unfinished\n",
      "Mapping GarageType_Detchd to System Variable Garage is Detached\n",
      "Mapping Fireplaces to System Variable Number of Fireplaces\n",
      "Mapping BsmtQual_Gd to System Variable Basement Quality is Good\n",
      "Mapping KitchenQual_TA to System Variable Kitchen Quality is Typical\n",
      "Mapping GrLivArea to System Variable Above Ground Living Area\n",
      "Mapping YearRemodAdd to System Variable Remodel Year\n",
      "Mapping MSZoning_RM to System Variable Zoning is Residential Medium Density\n",
      "Mapping 1stFlrSF to System Variable First Floor Area\n",
      "Mapping GarageCars to System Variable Garage Size\n",
      "Mapping LotArea to System Variable Land Area of the property Square Feet\n",
      "Mapping KitchenAbvGr to System Variable Number of Kitchens in Housing Unit\n",
      "Mapping TotalBsmtSF to System Variable Basement Area\n",
      "Mapping ScreenPorch to System Variable Screen Porch Area\n",
      "Mapping MSZoning_RL to System Variable Zoning is Residential Low Density\n",
      "Mapping BsmtFinType1_GLQ to System Variable Basement Finished Area Quality is Good\n",
      "Mapping 2ndFlrSF to System Variable Second Floor Area\n",
      "https://localhost:4200/write/subgraph/3e0eb02d986a45d3a3d7ce50bb9813787ee4c0aba63315ca89bfd944a13c0a08\n"
     ]
    }
   ],
   "source": [
    "with system.SupervisedMLSession(config_path='local.json', authors=authors_ids) as session:\n",
    " \n",
    "    for max_depth, n_estimator, gamma in [\n",
    "        (3, 15, 0),\n",
    "        (3, 20, 0),\n",
    "        (4, 15, 0),\n",
    "        (2, 15, 0),\n",
    "        (3, 15, 0.01)\n",
    "    ]:\n",
    "        model = xgb.XGBClassifier(\n",
    "            max_depth=max_depth,\n",
    "            n_estimator=n_estimator,\n",
    "            gamma=gamma)\n",
    "        model.fit(mini_X_train.values, y_train)\n",
    "        evaluation = session.add_evaluation(\n",
    "            model,\n",
    "            mini_X_test,\n",
    "            pd.DataFrame(y_test),\n",
    "            initial_types=initial_type)\n",
    "        system_model = session.add_model(\n",
    "            target_name='SalePrice',\n",
    "            algorithm='XGBoost',\n",
    "            label=f'max_depth={max_depth}, n_estimator={n_estimator}, gamma={gamma}',\n",
    "            model_params=model.get_params(),\n",
    "            source_datasets=source_datasets,\n",
    "            model_population=population,\n",
    "            evaluation=evaluation,\n",
    "            neighborhoods=neighborhoods)\n",
    "    session.map_features_to_variables(feature_to_variable_map=feature_map)\n",
    "    session.add_experiment_metadata(\n",
    "        name=experiment2_name,\n",
    "        lede=experiment2_lede,\n",
    "        description=experiment2_description\n",
    "    )\n",
    "    session.submit()"
   ]
  },
  {
   "cell_type": "markdown",
   "metadata": {},
   "source": [
    "# Different Algorithms"
   ]
  },
  {
   "cell_type": "code",
   "execution_count": 22,
   "metadata": {},
   "outputs": [],
   "source": [
    "experiment3_name = \"Ames, Iowa housing price classifier with various classification algorithms.\"\n",
    "experiment3_lede = \"XBoost model to predict whether a house price is above median.\"\n",
    "experiment3_description = \"\"\"\n",
    "In this experiment, an XGBoost model was trained all the features found in Kaggle's Ames, Iowa housing price dataset.\n",
    "The top 20 most performat features was selected with Gain as the feature contribution method.\n",
    "Random Forest, Logistic Regression and XGBoost models were trained and tested.\n",
    "\"\"\""
   ]
  },
  {
   "cell_type": "code",
   "execution_count": 23,
   "metadata": {},
   "outputs": [],
   "source": [
    "import sklearn"
   ]
  },
  {
   "cell_type": "code",
   "execution_count": 24,
   "metadata": {},
   "outputs": [],
   "source": [
    "rf_model = sklearn.ensemble.RandomForestClassifier()\n",
    "logit_model = sklearn.linear_model.LogisticRegression()\n",
    "xgb_model = xgb.XGBClassifier(\n",
    "            max_depth=best_max_depth,\n",
    "            n_estimator=best_n_estimator,\n",
    "            gamma=best_gamma)"
   ]
  },
  {
   "cell_type": "code",
   "execution_count": 18,
   "metadata": {},
   "outputs": [
    {
     "name": "stdout",
     "output_type": "stream",
     "text": [
      "Setting Mehdi Jamei as an author.\n"
     ]
    },
    {
     "name": "stderr",
     "output_type": "stream",
     "text": [
      "The maximum opset needed by this model is only 1.\n"
     ]
    },
    {
     "name": "stdout",
     "output_type": "stream",
     "text": [
      "EVALUATOR OUTPUT 2019-10-09 10-55-25 Loading the ONNX Model...EVALUATOR OUTPUT 2019-10-09 10-55-25 SUCCESS...\n",
      "EVALUATOR OUTPUT 2019-10-09 10-55-25 Creating descriptive stats for X...EVALUATOR OUTPUT 2019-10-09 10-55-27 SUCCESS...\n",
      "EVALUATOR OUTPUT 2019-10-09 10-55-27 Creating descriptive stats for y...EVALUATOR OUTPUT 2019-10-09 10-55-27 SUCCESS...\n",
      "EVALUATOR OUTPUT 2019-10-09 10-55-27 Calculating model F1Score...EVALUATOR OUTPUT 2019-10-09 10-55-27 SUCCESS...\n",
      "EVALUATOR OUTPUT 2019-10-09 10-55-27 Calculating model AccuracyScore...EVALUATOR OUTPUT 2019-10-09 10-55-27 SUCCESS...\n",
      "EVALUATOR OUTPUT 2019-10-09 10-55-27 Calculating model RocAucScore...EVALUATOR OUTPUT 2019-10-09 10-55-28 SUCCESS...\n",
      "EVALUATOR OUTPUT 2019-10-09 10-55-28 Calculating model RocCurve...EVALUATOR OUTPUT 2019-10-09 10-55-28 SUCCESS...\n",
      "EVALUATOR OUTPUT 2019-10-09 10-55-28 Calculating model ConfusionMatrix...EVALUATOR OUTPUT 2019-10-09 10-55-28 SUCCESS...\n",
      "EVALUATOR OUTPUT 2019-10-09 10-55-28 Calculating permutation for F1Score...EVALUATOR OUTPUT 2019-10-09 10-55-30 SUCCESS...\n",
      "EVALUATOR OUTPUT 2019-10-09 10-55-30 Calculating permutation for AccuracyScore...EVALUATOR OUTPUT 2019-10-09 10-55-32 SUCCESS...\n",
      "EVALUATOR OUTPUT 2019-10-09 10-55-32 Calculating permutation for RocAucScore...EVALUATOR OUTPUT 2019-10-09 10-55-35 SUCCESS...\n",
      "EVALUATOR OUTPUT 2019-10-09 10-55-35 Calculating PDP...EVALUATOR OUTPUT 2019-10-09 10-56-01 SUCCESS...\n",
      "EVALUATOR OUTPUT 2019-10-09 10-56-01 Calculating Feature Interactions...EVALUATOR OUTPUT 2019-10-09 10-56-45 SUCCESS...\n",
      "EVALUATOR OUTPUT 2019-10-09 10-56-46 Finished...\n",
      "Setting Ames Housing Dataset as a dataset.\n",
      "Setting Real Estate as a neighborhood.\n"
     ]
    },
    {
     "name": "stderr",
     "output_type": "stream",
     "text": [
      "The maximum opset needed by this model is only 9.\n",
      "The maximum opset needed by this model is only 1.\n"
     ]
    },
    {
     "name": "stdout",
     "output_type": "stream",
     "text": [
      "EVALUATOR OUTPUT 2019-10-09 10-56-49 Loading the ONNX Model...EVALUATOR OUTPUT 2019-10-09 10-56-50 SUCCESS...\n",
      "EVALUATOR OUTPUT 2019-10-09 10-56-50 Creating descriptive stats for X...EVALUATOR OUTPUT 2019-10-09 10-56-51 SUCCESS...\n",
      "EVALUATOR OUTPUT 2019-10-09 10-56-51 Creating descriptive stats for y...EVALUATOR OUTPUT 2019-10-09 10-56-52 SUCCESS...\n",
      "EVALUATOR OUTPUT 2019-10-09 10-56-52 Calculating model F1Score...EVALUATOR OUTPUT 2019-10-09 10-56-52 SUCCESS...\n",
      "EVALUATOR OUTPUT 2019-10-09 10-56-52 Calculating model AccuracyScore...EVALUATOR OUTPUT 2019-10-09 10-56-52 SUCCESS...\n",
      "EVALUATOR OUTPUT 2019-10-09 10-56-52 Calculating model RocAucScore...EVALUATOR OUTPUT 2019-10-09 10-56-52 SUCCESS...\n",
      "EVALUATOR OUTPUT 2019-10-09 10-56-52 Calculating model RocCurve...EVALUATOR OUTPUT 2019-10-09 10-56-52 SUCCESS...\n",
      "EVALUATOR OUTPUT 2019-10-09 10-56-52 Calculating model ConfusionMatrix...EVALUATOR OUTPUT 2019-10-09 10-56-54 SUCCESS...\n",
      "EVALUATOR OUTPUT 2019-10-09 10-56-54 Calculating permutation for F1Score...EVALUATOR OUTPUT 2019-10-09 10-56-55 SUCCESS...\n",
      "EVALUATOR OUTPUT 2019-10-09 10-56-55 Calculating permutation for AccuracyScore...EVALUATOR OUTPUT 2019-10-09 10-56-56 SUCCESS...\n",
      "EVALUATOR OUTPUT 2019-10-09 10-56-56 Calculating permutation for RocAucScore...EVALUATOR OUTPUT 2019-10-09 10-56-59 SUCCESS...\n",
      "EVALUATOR OUTPUT 2019-10-09 10-56-59 Calculating PDP...EVALUATOR OUTPUT 2019-10-09 10-57-08 SUCCESS...\n",
      "EVALUATOR OUTPUT 2019-10-09 10-57-08 Calculating Feature Interactions...EVALUATOR OUTPUT 2019-10-09 10-57-29 SUCCESS...\n",
      "EVALUATOR OUTPUT 2019-10-09 10-57-29 Finished...\n",
      "Setting Ames Housing Dataset as a dataset.\n",
      "Setting Real Estate as a neighborhood.\n"
     ]
    },
    {
     "name": "stderr",
     "output_type": "stream",
     "text": [
      "The maximum opset needed by this model is only 9.\n",
      "The maximum opset needed by this model is only 1.\n"
     ]
    },
    {
     "name": "stdout",
     "output_type": "stream",
     "text": [
      "EVALUATOR OUTPUT 2019-10-09 10-57-30 Loading the ONNX Model...EVALUATOR OUTPUT 2019-10-09 10-57-30 SUCCESS...\n",
      "EVALUATOR OUTPUT 2019-10-09 10-57-30 Creating descriptive stats for X...EVALUATOR OUTPUT 2019-10-09 10-57-32 SUCCESS...\n",
      "EVALUATOR OUTPUT 2019-10-09 10-57-32 Creating descriptive stats for y...EVALUATOR OUTPUT 2019-10-09 10-57-32 SUCCESS...\n",
      "EVALUATOR OUTPUT 2019-10-09 10-57-32 Calculating model F1Score...EVALUATOR OUTPUT 2019-10-09 10-57-32 SUCCESS...\n",
      "EVALUATOR OUTPUT 2019-10-09 10-57-32 Calculating model AccuracyScore...EVALUATOR OUTPUT 2019-10-09 10-57-32 SUCCESS...\n",
      "EVALUATOR OUTPUT 2019-10-09 10-57-32 Calculating model RocAucScore...EVALUATOR OUTPUT 2019-10-09 10-57-32 SUCCESS...\n",
      "EVALUATOR OUTPUT 2019-10-09 10-57-32 Calculating model RocCurve...EVALUATOR OUTPUT 2019-10-09 10-57-32 SUCCESS...\n",
      "EVALUATOR OUTPUT 2019-10-09 10-57-32 Calculating model ConfusionMatrix...EVALUATOR OUTPUT 2019-10-09 10-57-32 SUCCESS...\n",
      "EVALUATOR OUTPUT 2019-10-09 10-57-32 Calculating permutation for F1Score...EVALUATOR OUTPUT 2019-10-09 10-57-34 SUCCESS...\n",
      "EVALUATOR OUTPUT 2019-10-09 10-57-34 Calculating permutation for AccuracyScore...EVALUATOR OUTPUT 2019-10-09 10-57-34 SUCCESS...\n",
      "EVALUATOR OUTPUT 2019-10-09 10-57-34 Calculating permutation for RocAucScore...EVALUATOR OUTPUT 2019-10-09 10-57-36 SUCCESS...\n",
      "EVALUATOR OUTPUT 2019-10-09 10-57-36 Calculating PDP...EVALUATOR OUTPUT 2019-10-09 10-57-43 SUCCESS...\n",
      "EVALUATOR OUTPUT 2019-10-09 10-57-43 Calculating Feature Interactions...EVALUATOR OUTPUT 2019-10-09 10-57-55 SUCCESS...\n",
      "EVALUATOR OUTPUT 2019-10-09 10-57-55 Finished...\n",
      "Setting Ames Housing Dataset as a dataset.\n",
      "Setting Real Estate as a neighborhood.\n",
      "Mapping YearBuilt to System Variable Built Year\n",
      "Mapping SalePrice to System Variable House Price is Above Median\n",
      "Mapping FullBath to System Variable Number of Bathrooms in Housing Unit\n",
      "Mapping OverallQual to System Variable Building Quality\n",
      "Mapping GarageFinish_Unf to System Variable Garage is Unfinished\n",
      "Mapping GarageType_Detchd to System Variable Garage is Detached\n",
      "Mapping Fireplaces to System Variable Number of Fireplaces\n",
      "Mapping BsmtQual_Gd to System Variable Basement Quality is Good\n",
      "Mapping KitchenQual_TA to System Variable Kitchen Quality is Typical\n",
      "Mapping GrLivArea to System Variable Above Ground Living Area\n",
      "Mapping YearRemodAdd to System Variable Remodel Year\n",
      "Mapping MSZoning_RM to System Variable Zoning is Residential Medium Density\n",
      "Mapping 1stFlrSF to System Variable First Floor Area\n",
      "Mapping GarageCars to System Variable Garage Size\n",
      "Mapping LotArea to System Variable Land Area of the property Square Feet\n",
      "Mapping KitchenAbvGr to System Variable Number of Kitchens in Housing Unit\n",
      "Mapping TotalBsmtSF to System Variable Basement Area\n",
      "Mapping ScreenPorch to System Variable Screen Porch Area\n",
      "Mapping MSZoning_RL to System Variable Zoning is Residential Low Density\n",
      "Mapping BsmtFinType1_GLQ to System Variable Basement Finished Area Quality is Good\n",
      "Mapping 2ndFlrSF to System Variable Second Floor Area\n",
      "https://localhost:4200/write/subgraph/dae7cb5c714242ffa041a41f0a35a718135df057426ba3030f25003642e6cc33\n"
     ]
    }
   ],
   "source": [
    "with system.SupervisedMLSession(config_path='local.json', authors=authors_ids) as session3:\n",
    " \n",
    "    for model in [xgb_model, rf_model, logit_model]:\n",
    "        model.fit(mini_X_train.values, y_train.astype(int))\n",
    "        evaluation = session3.add_evaluation(\n",
    "            model,\n",
    "            mini_X_test,\n",
    "            pd.DataFrame(y_test.astype(int)),\n",
    "            initial_types=initial_type)\n",
    "        system_model = session3.add_model(\n",
    "            target_name='SalePrice',\n",
    "            algorithm=model.__class__.__name__,\n",
    "            label=f'algorithm={model.__class__.__name__}',\n",
    "            model_params=model.get_params(),\n",
    "            source_datasets=source_datasets,\n",
    "            model_population=population,\n",
    "            evaluation=evaluation,\n",
    "            neighborhoods=neighborhoods)\n",
    "    session3.map_features_to_variables(feature_to_variable_map=feature_map)\n",
    "    session3.add_experiment_metadata(\n",
    "        name=experiment3_name,\n",
    "        lede=experiment3_lede,\n",
    "        description=experiment3_description\n",
    "    )\n",
    "    session3.submit()"
   ]
  },
  {
   "cell_type": "code",
   "execution_count": null,
   "metadata": {},
   "outputs": [],
   "source": []
  }
 ],
 "metadata": {
  "kernelspec": {
   "display_name": "Python 3",
   "language": "python",
   "name": "python3"
  },
  "language_info": {
   "codemirror_mode": {
    "name": "ipython",
    "version": 3
   },
   "file_extension": ".py",
   "mimetype": "text/x-python",
   "name": "python",
   "nbconvert_exporter": "python",
   "pygments_lexer": "ipython3",
   "version": "3.7.1"
  }
 },
 "nbformat": 4,
 "nbformat_minor": 2
}
