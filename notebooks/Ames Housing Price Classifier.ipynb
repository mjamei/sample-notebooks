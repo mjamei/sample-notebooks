{
 "cells": [
  {
   "cell_type": "markdown",
   "metadata": {},
   "source": [
    "# House price classifier\n",
    "\n",
    "Predict whether house price is above median based on house and neighborhood characteristics"
   ]
  },
  {
   "cell_type": "code",
   "execution_count": 1,
   "metadata": {},
   "outputs": [
    {
     "name": "stdout",
     "output_type": "stream",
     "text": [
      "Populating the interactive namespace from numpy and matplotlib\n"
     ]
    }
   ],
   "source": [
    "%pylab inline\n",
    "%load_ext autoreload\n",
    "%autoreload 2\n",
    "\n",
    "import numpy as np\n",
    "import pandas as pd\n",
    "import matplotlib.pylab as plt\n",
    "from sklearn.model_selection import train_test_split\n",
    "pd.set_option('display.expand_frame_repr', False)\n",
    "pd.set_option('display.precision', 2)\n"
   ]
  },
  {
   "cell_type": "markdown",
   "metadata": {},
   "source": [
    "## Data preparation\n",
    "\n",
    "Add a new feature, and split train-test. Create a validation set."
   ]
  },
  {
   "cell_type": "code",
   "execution_count": 2,
   "metadata": {},
   "outputs": [],
   "source": [
    "def clean_data(data, is_train_data=True):\n",
    "    data['TotalSF'] = data['TotalBsmtSF'] + data['1stFlrSF'] + data['2ndFlrSF']\n",
    "    if is_train_data == True:\n",
    "        data = data[data.GrLivArea < 4000]        \n",
    "    return data"
   ]
  },
  {
   "cell_type": "code",
   "execution_count": 3,
   "metadata": {},
   "outputs": [
    {
     "name": "stderr",
     "output_type": "stream",
     "text": [
      "/Users/mehdi/Documents/python-client/venv/lib/python3.7/site-packages/pandas/core/frame.py:4097: SettingWithCopyWarning: \n",
      "A value is trying to be set on a copy of a slice from a DataFrame\n",
      "\n",
      "See the caveats in the documentation: http://pandas.pydata.org/pandas-docs/stable/user_guide/indexing.html#returning-a-view-versus-a-copy\n",
      "  errors=errors,\n"
     ]
    }
   ],
   "source": [
    "df = pd.read_csv('data/ames/train.csv')\n",
    "categorical_df = df.select_dtypes('object')\n",
    "numerical_df = df.select_dtypes('number')\n",
    "median_price = df.SalePrice.median()\n",
    "y = df.SalePrice > median_price\n",
    "numerical_df.drop(['Id', 'SalePrice'], axis=1, inplace=True)\n",
    "X = pd.concat([numerical_df, pd.get_dummies(categorical_df, drop_first=True)], axis=1)\n",
    "X = X.fillna(X.median()).astype('int64')"
   ]
  },
  {
   "cell_type": "code",
   "execution_count": 4,
   "metadata": {},
   "outputs": [],
   "source": [
    "X_train, X_test, y_train, y_test = train_test_split(X, y, test_size=0.3, random_state=56)\n",
    "X_train, X_val, y_train, y_val = train_test_split(X_train, y_train, test_size=0.2, random_state=56)"
   ]
  },
  {
   "cell_type": "markdown",
   "metadata": {},
   "source": [
    "# ML Experiment\n",
    "\n",
    "Run with different hyperparams and pick the best."
   ]
  },
  {
   "cell_type": "code",
   "execution_count": 5,
   "metadata": {},
   "outputs": [],
   "source": [
    "import itertools\n",
    "import operator\n",
    "import xgboost as xgb"
   ]
  },
  {
   "cell_type": "code",
   "execution_count": 6,
   "metadata": {},
   "outputs": [],
   "source": [
    "depths = [3, 5, 7]\n",
    "n_estimators = [5, 10, 20]\n",
    "gammas= [0, 0.1, 0.3]"
   ]
  },
  {
   "cell_type": "code",
   "execution_count": 7,
   "metadata": {
    "scrolled": true
   },
   "outputs": [],
   "source": [
    "# performance_dict = dict()\n",
    "# for max_depth, n_estimator, gamma in list(itertools.product(depths, n_estimators, gammas)):\n",
    "#     booster_model = xgb.XGBClassifier(max_depth=max_depth, n_estimator=n_estimator, gamma=gamma)\n",
    "#     booster_model.fit(X_train, y_train)\n",
    "#     print(f'Finished training model with {max_depth}, {n_estimator}, {gamma} params')\n",
    "#     performance_dict.update({\n",
    "#         (max_depth, n_estimator, gamma): booster_model.score(X_val, y_val)\n",
    "#     })"
   ]
  },
  {
   "cell_type": "markdown",
   "metadata": {},
   "source": [
    "Retrain the model with the best params."
   ]
  },
  {
   "cell_type": "code",
   "execution_count": 8,
   "metadata": {},
   "outputs": [
    {
     "name": "stdout",
     "output_type": "stream",
     "text": [
      "Best params are 3 max_depth, 20 n_estimators, 0 gamma.\n"
     ]
    },
    {
     "data": {
      "text/plain": [
       "XGBClassifier(base_score=0.5, booster='gbtree', colsample_bylevel=1,\n",
       "              colsample_bynode=1, colsample_bytree=1, gamma=0,\n",
       "              learning_rate=0.1, max_delta_step=0, max_depth=3,\n",
       "              min_child_weight=1, missing=None, n_estimator=20,\n",
       "              n_estimators=100, n_jobs=1, nthread=None,\n",
       "              objective='binary:logistic', random_state=0, reg_alpha=0,\n",
       "              reg_lambda=1, scale_pos_weight=1, seed=None, silent=None,\n",
       "              subsample=1, verbosity=1)"
      ]
     },
     "execution_count": 8,
     "metadata": {},
     "output_type": "execute_result"
    }
   ],
   "source": [
    "best_max_depth, best_n_estimator, best_gamma = 3, 20, 0\n",
    "# max(performance_dict.items(), key=operator.itemgetter(1))[0]\n",
    "print(f'Best params are {best_max_depth} max_depth, {best_n_estimator} n_estimators, {best_gamma} gamma.')\n",
    "best_model = xgb.XGBClassifier(\n",
    "    max_depth=best_max_depth,\n",
    "    n_estimator=best_n_estimator,\n",
    "    gamma=best_gamma)\n",
    "best_model.fit(X_train.values, y_train)"
   ]
  },
  {
   "cell_type": "code",
   "execution_count": 9,
   "metadata": {},
   "outputs": [],
   "source": [
    "FI = dict(zip(X_train.columns, best_model.feature_importances_))"
   ]
  },
  {
   "cell_type": "code",
   "execution_count": 10,
   "metadata": {},
   "outputs": [],
   "source": [
    "top_20_features = dict(sorted(FI.items(), key=operator.itemgetter(1), reverse=True)[:20])"
   ]
  },
  {
   "cell_type": "code",
   "execution_count": 11,
   "metadata": {},
   "outputs": [
    {
     "name": "stdout",
     "output_type": "stream",
     "text": [
      "(817, 20) (438, 20)\n"
     ]
    }
   ],
   "source": [
    "mini_X_train = X_train[top_20_features.keys()]\n",
    "mini_X_test = X_test[top_20_features.keys()]\n",
    "print(mini_X_train.shape, mini_X_test.shape)"
   ]
  },
  {
   "cell_type": "code",
   "execution_count": 12,
   "metadata": {},
   "outputs": [],
   "source": [
    "mini_model = xgb.XGBClassifier(\n",
    "    max_depth=best_max_depth,\n",
    "    n_estimator=best_n_estimator,\n",
    "    gamma=best_gamma)\n",
    "mini_model.fit(mini_X_train.values, y_train)\n",
    "accuracy_score = mini_model.score(mini_X_test.values, y_test)\n",
    "FI = dict(zip(mini_X_train.columns, mini_model.feature_importances_))"
   ]
  },
  {
   "cell_type": "code",
   "execution_count": 13,
   "metadata": {},
   "outputs": [],
   "source": [
    "feature_map = {\n",
    "    'YearBuilt': '3a7a81e2e6da11e985bd000000000002',\n",
    "    'FullBath': '3a74509ae6da11e9bf72000000000002',\n",
    "    'OverallQual': '225a218ce55911e9a244000000000002',\n",
    "    'GarageFinish_Unf': '2d3d2abee55911e99a5e000000000002',\n",
    "    'GarageType_Detchd': '3402dac0e55911e9a297000000000002',\n",
    "    'Fireplaces': '4d2ff40ae55911e98624000000000002',\n",
    "    'BsmtQual_Gd': '58bf3324e55911e99c0f000000000002',\n",
    "    'KitchenQual_TA': '98c36c86e55911e99cf1000000000002',\n",
    "    'GrLivArea': 'fa71695ee55911e9a4f0000000000002',\n",
    "    'YearRemodAdd': '4f2c224ae55a11e9b148000000000002',\n",
    "    'MSZoning_RM': '94d40e10e55a11e9aa80000000000002',\n",
    "    '1stFlrSF': 'c6c484d8e55a11e9b9ee000000000002',\n",
    "    'GarageCars': 'f23933f4e55a11e9b5ab000000000002',\n",
    "    'LotArea': '3a6fdeb6e6da11e99130000000000002',\n",
    "    'KitchenAbvGr': '3a78498ce6da11e9823f000000000002',\n",
    "    'TotalBsmtSF': '56760bb4e55b11e99838000000000002',\n",
    "    'ScreenPorch': '7f02b486e55b11e986ce000000000002',\n",
    "    'MSZoning_RL': 'ba31c32ce55b11e9a3fc000000000002',\n",
    "    'BsmtFinType1_GLQ': '077ab0f4e55c11e9ad3f000000000002',\n",
    "    '2ndFlrSF': '1d9d5110e55c11e98f79000000000002',\n",
    "    'SalePrice': '18f521d8e5fa11e9ab1b000000000002'\n",
    "}\n",
    "authors_ids = ['5b69b6dee6f111e9a037000000000007']\n",
    "source_datasets = ['f4ded1b0dfca11e9ab5e000000000004']\n",
    "neighborhoods = ['99397a46e6f111e9953200000000000a']\n",
    "population = 'dd103c38ec6411e99cf6000000000008'"
   ]
  },
  {
   "cell_type": "markdown",
   "metadata": {},
   "source": [
    "# Submission"
   ]
  },
  {
   "cell_type": "code",
   "execution_count": 14,
   "metadata": {},
   "outputs": [],
   "source": [
    "experiment_name = \"Ames, Iowa housing price classifier using top 20 most performant features.\"\n",
    "experiment_lede = \"XBoost model to predict whether a house price is above median.\"\n",
    "experiment_description = \"\"\"\n",
    "In this experiment, an XGBoost model was trained all the features found in Kaggle's Ames, Iowa housing price dataset.\n",
    "The top 20 most performat features was selected with Gain as the feature contribution method.\n",
    "\"\"\""
   ]
  },
  {
   "cell_type": "code",
   "execution_count": 15,
   "metadata": {},
   "outputs": [],
   "source": [
    "import system_client as system\n",
    "from onnxmltools.convert.common.data_types import Int64TensorType\n",
    "num_features = mini_X_test.shape[1]\n",
    "initial_type = [('feature_input', Int64TensorType([1, num_features]))]"
   ]
  },
  {
   "cell_type": "code",
   "execution_count": 18,
   "metadata": {
    "scrolled": false
   },
   "outputs": [
    {
     "name": "stderr",
     "output_type": "stream",
     "text": [
      "The maximum opset needed by this model is only 1.\n"
     ]
    },
    {
     "name": "stdout",
     "output_type": "stream",
     "text": [
      "Setting Mehdi Jamei as an author.\n",
      "EVALUATOR OUTPUT 2019-10-14 16-31-49 Loading the ONNX Model...EVALUATOR OUTPUT 2019-10-14 16-31-49 SUCCESS...\n",
      "EVALUATOR OUTPUT 2019-10-14 16-31-49 Creating descriptive stats for X...EVALUATOR OUTPUT 2019-10-14 16-31-50 SUCCESS...\n",
      "EVALUATOR OUTPUT 2019-10-14 16-31-50 Creating descriptive stats for y...EVALUATOR OUTPUT 2019-10-14 16-31-51 SUCCESS...\n",
      "EVALUATOR OUTPUT 2019-10-14 16-31-51 Calculating model F1Score...EVALUATOR OUTPUT 2019-10-14 16-31-51 SUCCESS...\n",
      "EVALUATOR OUTPUT 2019-10-14 16-31-51 Calculating model AccuracyScore...EVALUATOR OUTPUT 2019-10-14 16-31-51 SUCCESS...\n",
      "EVALUATOR OUTPUT 2019-10-14 16-31-51 Calculating model RocAucScore...EVALUATOR OUTPUT 2019-10-14 16-31-51 SUCCESS...\n",
      "EVALUATOR OUTPUT 2019-10-14 16-31-51 Calculating model RocCurve...EVALUATOR OUTPUT 2019-10-14 16-31-51 SUCCESS...\n",
      "EVALUATOR OUTPUT 2019-10-14 16-31-51 Calculating model ConfusionMatrix...EVALUATOR OUTPUT 2019-10-14 16-31-51 SUCCESS...\n",
      "EVALUATOR OUTPUT 2019-10-14 16-31-51 Calculating permutation for F1Score...EVALUATOR OUTPUT 2019-10-14 16-31-52 SUCCESS...\n",
      "EVALUATOR OUTPUT 2019-10-14 16-31-52 Calculating permutation for AccuracyScore...EVALUATOR OUTPUT 2019-10-14 16-31-53 SUCCESS...\n",
      "EVALUATOR OUTPUT 2019-10-14 16-31-53 Calculating permutation for RocAucScore...EVALUATOR OUTPUT 2019-10-14 16-31-55 SUCCESS...\n",
      "EVALUATOR OUTPUT 2019-10-14 16-31-55 Calculating PDP...EVALUATOR OUTPUT 2019-10-14 16-32-04 SUCCESS...\n",
      "EVALUATOR OUTPUT 2019-10-14 16-32-04 Calculating Feature Interactions...EVALUATOR OUTPUT 2019-10-14 16-32-17 SUCCESS...\n",
      "EVALUATOR OUTPUT 2019-10-14 16-32-17 Finished...\n",
      "Setting The population of the Ames Housing dataset as described in http://jse.amstat.org/v19n3/decock.pdf. as a population.\n",
      "Setting Ames Housing Dataset as a dataset.\n",
      "Setting Real Estate as a neighborhood.\n",
      "Mapping YearBuilt to System Variable Built Year\n",
      "Mapping SalePrice to System Variable House Price is Above Median\n",
      "Mapping FullBath to System Variable Number of Bathrooms in Housing Unit\n",
      "Mapping OverallQual to System Variable Building Quality\n",
      "Mapping GarageFinish_Unf to System Variable Garage is Unfinished\n",
      "Mapping GarageType_Detchd to System Variable Garage is Detached\n",
      "Mapping Fireplaces to System Variable Number of Fireplaces\n",
      "Mapping BsmtQual_Gd to System Variable Basement Quality is Good\n",
      "Mapping KitchenQual_TA to System Variable Kitchen Quality is Typical\n",
      "Mapping GrLivArea to System Variable Above Ground Living Area\n",
      "Mapping YearRemodAdd to System Variable Remodel Year\n",
      "Mapping MSZoning_RM to System Variable Zoning is Residential Medium Density\n",
      "Mapping 1stFlrSF to System Variable First Floor Area\n",
      "Mapping GarageCars to System Variable Garage Size\n",
      "Mapping LotArea to System Variable Land Area of the property Square Feet\n",
      "Mapping KitchenAbvGr to System Variable Number of Kitchens in Housing Unit\n",
      "Mapping TotalBsmtSF to System Variable Basement Area\n",
      "Mapping ScreenPorch to System Variable Screen Porch Area\n",
      "Mapping MSZoning_RL to System Variable Zoning is Residential Low Density\n",
      "Mapping BsmtFinType1_GLQ to System Variable Basement Finished Area Quality is Good\n",
      "Mapping 2ndFlrSF to System Variable Second Floor Area\n"
     ]
    }
   ],
   "source": [
    "with system.SupervisedMLSession(config_path='local.json', authors=authors_ids) as session1:\n",
    "    evaluation = session1.add_evaluation(mini_model, mini_X_test, pd.DataFrame(y_test), initial_types=initial_type)\n",
    "    system_model = session1.add_model(\n",
    "        label='Best model',\n",
    "        algorithm='XGBoost',\n",
    "        performance={'AccuracyScore': accuracy_score},\n",
    "        target_name='SalePrice',\n",
    "        model_params=best_model.get_params(),\n",
    "        source_datasets=source_datasets,\n",
    "        model_population=population,\n",
    "        neighborhoods=neighborhoods,\n",
    "        evaluation=evaluation\n",
    "    )\n",
    "    session1.map_features_to_variables(feature_to_variable_map=feature_map)\n",
    "    session1.add_experiment_metadata(\n",
    "        name=experiment_name,\n",
    "        lede=experiment_lede,\n",
    "        description=experiment_description\n",
    "    )\n",
    "#     session1.submit()"
   ]
  },
  {
   "cell_type": "code",
   "execution_count": 24,
   "metadata": {},
   "outputs": [
    {
     "name": "stdout",
     "output_type": "stream",
     "text": [
      "https://localhost:4200/write/subgraph/ce2b2bdb616617b007fdb192febb6fd86a5cfaddef43eceec4ea9f0b37b478dd\n"
     ]
    },
    {
     "data": {
      "text/plain": [
       "{'subgraph_id': 'ce2b2bdb616617b007fdb192febb6fd86a5cfaddef43eceec4ea9f0b37b478dd',\n",
       " 'upload_urls': {}}"
      ]
     },
     "execution_count": 24,
     "metadata": {},
     "output_type": "execute_result"
    }
   ],
   "source": [
    "session1.submit()"
   ]
  },
  {
   "cell_type": "markdown",
   "metadata": {},
   "source": [
    "# Multiple hyperparams"
   ]
  },
  {
   "cell_type": "code",
   "execution_count": 19,
   "metadata": {},
   "outputs": [],
   "source": [
    "experiment2_name = \"Ames, Iowa housing price classifier with various hyperparameters.\"\n",
    "experiment2_lede = \"XBoost model to predict whether a house price is above median.\"\n",
    "experiment2_description = \"\"\"\n",
    "In this experiment, an XGBoost model was trained all the features found in Kaggle's Ames, Iowa housing price dataset.\n",
    "The top 20 most performat features was selected with Gain as the feature contribution method.\n",
    "Same model was trained and tested with different hyper parameters.\n",
    "\"\"\""
   ]
  },
  {
   "cell_type": "code",
   "execution_count": 21,
   "metadata": {
    "scrolled": false
   },
   "outputs": [
    {
     "name": "stdout",
     "output_type": "stream",
     "text": [
      "Setting Mehdi Jamei as an author.\n"
     ]
    },
    {
     "name": "stderr",
     "output_type": "stream",
     "text": [
      "The maximum opset needed by this model is only 1.\n"
     ]
    },
    {
     "name": "stdout",
     "output_type": "stream",
     "text": [
      "EVALUATOR OUTPUT 2019-10-14 16-46-38 Loading the ONNX Model...EVALUATOR OUTPUT 2019-10-14 16-46-39 SUCCESS...\n",
      "EVALUATOR OUTPUT 2019-10-14 16-46-39 Creating descriptive stats for X...EVALUATOR OUTPUT 2019-10-14 16-46-39 SUCCESS...\n",
      "EVALUATOR OUTPUT 2019-10-14 16-46-39 Creating descriptive stats for y...EVALUATOR OUTPUT 2019-10-14 16-46-39 SUCCESS...\n",
      "EVALUATOR OUTPUT 2019-10-14 16-46-40 Calculating model F1Score...EVALUATOR OUTPUT 2019-10-14 16-46-40 SUCCESS...\n",
      "EVALUATOR OUTPUT 2019-10-14 16-46-40 Calculating model AccuracyScore...EVALUATOR OUTPUT 2019-10-14 16-46-40 SUCCESS...\n",
      "EVALUATOR OUTPUT 2019-10-14 16-46-40 Calculating model RocAucScore...EVALUATOR OUTPUT 2019-10-14 16-46-40 SUCCESS...\n",
      "EVALUATOR OUTPUT 2019-10-14 16-46-40 Calculating model RocCurve...EVALUATOR OUTPUT 2019-10-14 16-46-40 SUCCESS...\n",
      "EVALUATOR OUTPUT 2019-10-14 16-46-40 Calculating model ConfusionMatrix...EVALUATOR OUTPUT 2019-10-14 16-46-40 SUCCESS...\n",
      "EVALUATOR OUTPUT 2019-10-14 16-46-40 Calculating permutation for F1Score...EVALUATOR OUTPUT 2019-10-14 16-46-41 SUCCESS...\n",
      "EVALUATOR OUTPUT 2019-10-14 16-46-41 Calculating permutation for AccuracyScore...EVALUATOR OUTPUT 2019-10-14 16-46-42 SUCCESS...\n",
      "EVALUATOR OUTPUT 2019-10-14 16-46-42 Calculating permutation for RocAucScore...EVALUATOR OUTPUT 2019-10-14 16-46-43 SUCCESS...\n",
      "EVALUATOR OUTPUT 2019-10-14 16-46-43 Calculating PDP...EVALUATOR OUTPUT 2019-10-14 16-46-54 SUCCESS...\n",
      "EVALUATOR OUTPUT 2019-10-14 16-46-54 Calculating Feature Interactions...EVALUATOR OUTPUT 2019-10-14 16-47-07 SUCCESS...\n",
      "EVALUATOR OUTPUT 2019-10-14 16-47-07 Finished...\n",
      "Setting The population of the Ames Housing dataset as described in http://jse.amstat.org/v19n3/decock.pdf. as a population.\n",
      "Setting Ames Housing Dataset as a dataset.\n",
      "Setting Real Estate as a neighborhood.\n"
     ]
    },
    {
     "name": "stderr",
     "output_type": "stream",
     "text": [
      "The maximum opset needed by this model is only 1.\n"
     ]
    },
    {
     "name": "stdout",
     "output_type": "stream",
     "text": [
      "EVALUATOR OUTPUT 2019-10-14 16-47-09 Loading the ONNX Model...EVALUATOR OUTPUT 2019-10-14 16-47-09 SUCCESS...\n",
      "EVALUATOR OUTPUT 2019-10-14 16-47-09 Creating descriptive stats for X...EVALUATOR OUTPUT 2019-10-14 16-47-10 SUCCESS...\n",
      "EVALUATOR OUTPUT 2019-10-14 16-47-10 Creating descriptive stats for y...EVALUATOR OUTPUT 2019-10-14 16-47-10 SUCCESS...\n",
      "EVALUATOR OUTPUT 2019-10-14 16-47-10 Calculating model F1Score...EVALUATOR OUTPUT 2019-10-14 16-47-10 SUCCESS...\n",
      "EVALUATOR OUTPUT 2019-10-14 16-47-10 Calculating model AccuracyScore...EVALUATOR OUTPUT 2019-10-14 16-47-10 SUCCESS...\n",
      "EVALUATOR OUTPUT 2019-10-14 16-47-10 Calculating model RocAucScore...EVALUATOR OUTPUT 2019-10-14 16-47-10 SUCCESS...\n",
      "EVALUATOR OUTPUT 2019-10-14 16-47-10 Calculating model RocCurve...EVALUATOR OUTPUT 2019-10-14 16-47-10 SUCCESS...\n",
      "EVALUATOR OUTPUT 2019-10-14 16-47-10 Calculating model ConfusionMatrix...EVALUATOR OUTPUT 2019-10-14 16-47-10 SUCCESS...\n",
      "EVALUATOR OUTPUT 2019-10-14 16-47-10 Calculating permutation for F1Score...EVALUATOR OUTPUT 2019-10-14 16-47-11 SUCCESS...\n",
      "EVALUATOR OUTPUT 2019-10-14 16-47-11 Calculating permutation for AccuracyScore...EVALUATOR OUTPUT 2019-10-14 16-47-13 SUCCESS...\n",
      "EVALUATOR OUTPUT 2019-10-14 16-47-13 Calculating permutation for RocAucScore...EVALUATOR OUTPUT 2019-10-14 16-47-15 SUCCESS...\n",
      "EVALUATOR OUTPUT 2019-10-14 16-47-15 Calculating PDP...EVALUATOR OUTPUT 2019-10-14 16-47-25 SUCCESS...\n",
      "EVALUATOR OUTPUT 2019-10-14 16-47-25 Calculating Feature Interactions...EVALUATOR OUTPUT 2019-10-14 16-47-43 SUCCESS...\n",
      "EVALUATOR OUTPUT 2019-10-14 16-47-43 Finished...\n",
      "Setting The population of the Ames Housing dataset as described in http://jse.amstat.org/v19n3/decock.pdf. as a population.\n",
      "Setting Ames Housing Dataset as a dataset.\n",
      "Setting Real Estate as a neighborhood.\n"
     ]
    },
    {
     "name": "stderr",
     "output_type": "stream",
     "text": [
      "The maximum opset needed by this model is only 1.\n"
     ]
    },
    {
     "name": "stdout",
     "output_type": "stream",
     "text": [
      "EVALUATOR OUTPUT 2019-10-14 16-47-44 Loading the ONNX Model...EVALUATOR OUTPUT 2019-10-14 16-47-45 SUCCESS...\n",
      "EVALUATOR OUTPUT 2019-10-14 16-47-45 Creating descriptive stats for X...EVALUATOR OUTPUT 2019-10-14 16-47-46 SUCCESS...\n",
      "EVALUATOR OUTPUT 2019-10-14 16-47-46 Creating descriptive stats for y...EVALUATOR OUTPUT 2019-10-14 16-47-46 SUCCESS...\n",
      "EVALUATOR OUTPUT 2019-10-14 16-47-46 Calculating model F1Score...EVALUATOR OUTPUT 2019-10-14 16-47-46 SUCCESS...\n",
      "EVALUATOR OUTPUT 2019-10-14 16-47-46 Calculating model AccuracyScore...EVALUATOR OUTPUT 2019-10-14 16-47-46 SUCCESS...\n",
      "EVALUATOR OUTPUT 2019-10-14 16-47-46 Calculating model RocAucScore...EVALUATOR OUTPUT 2019-10-14 16-47-46 SUCCESS...\n",
      "EVALUATOR OUTPUT 2019-10-14 16-47-46 Calculating model RocCurve...EVALUATOR OUTPUT 2019-10-14 16-47-46 SUCCESS...\n",
      "EVALUATOR OUTPUT 2019-10-14 16-47-46 Calculating model ConfusionMatrix...EVALUATOR OUTPUT 2019-10-14 16-47-46 SUCCESS...\n",
      "EVALUATOR OUTPUT 2019-10-14 16-47-46 Calculating permutation for F1Score...EVALUATOR OUTPUT 2019-10-14 16-47-49 SUCCESS...\n",
      "EVALUATOR OUTPUT 2019-10-14 16-47-49 Calculating permutation for AccuracyScore...EVALUATOR OUTPUT 2019-10-14 16-47-51 SUCCESS...\n",
      "EVALUATOR OUTPUT 2019-10-14 16-47-51 Calculating permutation for RocAucScore...EVALUATOR OUTPUT 2019-10-14 16-47-53 SUCCESS...\n",
      "EVALUATOR OUTPUT 2019-10-14 16-47-53 Calculating PDP...EVALUATOR OUTPUT 2019-10-14 16-48-07 SUCCESS...\n",
      "EVALUATOR OUTPUT 2019-10-14 16-48-07 Calculating Feature Interactions...EVALUATOR OUTPUT 2019-10-14 16-48-23 SUCCESS...\n",
      "EVALUATOR OUTPUT 2019-10-14 16-48-23 Finished...\n",
      "Setting The population of the Ames Housing dataset as described in http://jse.amstat.org/v19n3/decock.pdf. as a population.\n",
      "Setting Ames Housing Dataset as a dataset.\n",
      "Setting Real Estate as a neighborhood.\n"
     ]
    },
    {
     "name": "stderr",
     "output_type": "stream",
     "text": [
      "The maximum opset needed by this model is only 1.\n"
     ]
    },
    {
     "name": "stdout",
     "output_type": "stream",
     "text": [
      "EVALUATOR OUTPUT 2019-10-14 16-48-24 Loading the ONNX Model...EVALUATOR OUTPUT 2019-10-14 16-48-24 SUCCESS...\n",
      "EVALUATOR OUTPUT 2019-10-14 16-48-24 Creating descriptive stats for X...EVALUATOR OUTPUT 2019-10-14 16-48-25 SUCCESS...\n",
      "EVALUATOR OUTPUT 2019-10-14 16-48-25 Creating descriptive stats for y...EVALUATOR OUTPUT 2019-10-14 16-48-25 SUCCESS...\n",
      "EVALUATOR OUTPUT 2019-10-14 16-48-25 Calculating model F1Score...EVALUATOR OUTPUT 2019-10-14 16-48-25 SUCCESS...\n",
      "EVALUATOR OUTPUT 2019-10-14 16-48-25 Calculating model AccuracyScore...EVALUATOR OUTPUT 2019-10-14 16-48-25 SUCCESS...\n",
      "EVALUATOR OUTPUT 2019-10-14 16-48-25 Calculating model RocAucScore...EVALUATOR OUTPUT 2019-10-14 16-48-25 SUCCESS...\n",
      "EVALUATOR OUTPUT 2019-10-14 16-48-25 Calculating model RocCurve...EVALUATOR OUTPUT 2019-10-14 16-48-25 SUCCESS...\n",
      "EVALUATOR OUTPUT 2019-10-14 16-48-25 Calculating model ConfusionMatrix...EVALUATOR OUTPUT 2019-10-14 16-48-26 SUCCESS...\n",
      "EVALUATOR OUTPUT 2019-10-14 16-48-26 Calculating permutation for F1Score...EVALUATOR OUTPUT 2019-10-14 16-48-28 SUCCESS...\n",
      "EVALUATOR OUTPUT 2019-10-14 16-48-28 Calculating permutation for AccuracyScore...EVALUATOR OUTPUT 2019-10-14 16-48-30 SUCCESS...\n",
      "EVALUATOR OUTPUT 2019-10-14 16-48-30 Calculating permutation for RocAucScore...EVALUATOR OUTPUT 2019-10-14 16-48-32 SUCCESS...\n",
      "EVALUATOR OUTPUT 2019-10-14 16-48-32 Calculating PDP...EVALUATOR OUTPUT 2019-10-14 16-48-45 SUCCESS...\n",
      "EVALUATOR OUTPUT 2019-10-14 16-48-45 Calculating Feature Interactions...EVALUATOR OUTPUT 2019-10-14 16-49-03 SUCCESS...\n",
      "EVALUATOR OUTPUT 2019-10-14 16-49-04 Finished...\n",
      "Setting The population of the Ames Housing dataset as described in http://jse.amstat.org/v19n3/decock.pdf. as a population.\n",
      "Setting Ames Housing Dataset as a dataset.\n",
      "Setting Real Estate as a neighborhood.\n"
     ]
    },
    {
     "name": "stderr",
     "output_type": "stream",
     "text": [
      "The maximum opset needed by this model is only 1.\n"
     ]
    },
    {
     "name": "stdout",
     "output_type": "stream",
     "text": [
      "EVALUATOR OUTPUT 2019-10-14 16-49-07 Loading the ONNX Model...EVALUATOR OUTPUT 2019-10-14 16-49-07 SUCCESS...\n",
      "EVALUATOR OUTPUT 2019-10-14 16-49-07 Creating descriptive stats for X...EVALUATOR OUTPUT 2019-10-14 16-49-09 SUCCESS...\n",
      "EVALUATOR OUTPUT 2019-10-14 16-49-09 Creating descriptive stats for y...EVALUATOR OUTPUT 2019-10-14 16-49-09 SUCCESS...\n",
      "EVALUATOR OUTPUT 2019-10-14 16-49-09 Calculating model F1Score...EVALUATOR OUTPUT 2019-10-14 16-49-09 SUCCESS...\n",
      "EVALUATOR OUTPUT 2019-10-14 16-49-09 Calculating model AccuracyScore...EVALUATOR OUTPUT 2019-10-14 16-49-10 SUCCESS...\n",
      "EVALUATOR OUTPUT 2019-10-14 16-49-10 Calculating model RocAucScore...EVALUATOR OUTPUT 2019-10-14 16-49-10 SUCCESS...\n",
      "EVALUATOR OUTPUT 2019-10-14 16-49-10 Calculating model RocCurve...EVALUATOR OUTPUT 2019-10-14 16-49-10 SUCCESS...\n",
      "EVALUATOR OUTPUT 2019-10-14 16-49-10 Calculating model ConfusionMatrix...EVALUATOR OUTPUT 2019-10-14 16-49-10 SUCCESS...\n",
      "EVALUATOR OUTPUT 2019-10-14 16-49-10 Calculating permutation for F1Score...EVALUATOR OUTPUT 2019-10-14 16-49-12 SUCCESS...\n",
      "EVALUATOR OUTPUT 2019-10-14 16-49-12 Calculating permutation for AccuracyScore...EVALUATOR OUTPUT 2019-10-14 16-49-14 SUCCESS...\n",
      "EVALUATOR OUTPUT 2019-10-14 16-49-14 Calculating permutation for RocAucScore...EVALUATOR OUTPUT 2019-10-14 16-49-16 SUCCESS...\n",
      "EVALUATOR OUTPUT 2019-10-14 16-49-16 Calculating PDP...EVALUATOR OUTPUT 2019-10-14 16-49-35 SUCCESS...\n",
      "EVALUATOR OUTPUT 2019-10-14 16-49-35 Calculating Feature Interactions...EVALUATOR OUTPUT 2019-10-14 16-49-49 SUCCESS...\n",
      "EVALUATOR OUTPUT 2019-10-14 16-49-49 Finished...\n",
      "Setting The population of the Ames Housing dataset as described in http://jse.amstat.org/v19n3/decock.pdf. as a population.\n",
      "Setting Ames Housing Dataset as a dataset.\n",
      "Setting Real Estate as a neighborhood.\n",
      "Mapping YearBuilt to System Variable Built Year\n",
      "Mapping SalePrice to System Variable House Price is Above Median\n",
      "Mapping FullBath to System Variable Number of Bathrooms in Housing Unit\n",
      "Mapping OverallQual to System Variable Building Quality\n",
      "Mapping GarageFinish_Unf to System Variable Garage is Unfinished\n",
      "Mapping GarageType_Detchd to System Variable Garage is Detached\n",
      "Mapping Fireplaces to System Variable Number of Fireplaces\n",
      "Mapping BsmtQual_Gd to System Variable Basement Quality is Good\n",
      "Mapping KitchenQual_TA to System Variable Kitchen Quality is Typical\n",
      "Mapping GrLivArea to System Variable Above Ground Living Area\n",
      "Mapping YearRemodAdd to System Variable Remodel Year\n",
      "Mapping MSZoning_RM to System Variable Zoning is Residential Medium Density\n",
      "Mapping 1stFlrSF to System Variable First Floor Area\n",
      "Mapping GarageCars to System Variable Garage Size\n",
      "Mapping LotArea to System Variable Land Area of the property Square Feet\n",
      "Mapping KitchenAbvGr to System Variable Number of Kitchens in Housing Unit\n",
      "Mapping TotalBsmtSF to System Variable Basement Area\n",
      "Mapping ScreenPorch to System Variable Screen Porch Area\n",
      "Mapping MSZoning_RL to System Variable Zoning is Residential Low Density\n",
      "Mapping BsmtFinType1_GLQ to System Variable Basement Finished Area Quality is Good\n",
      "Mapping 2ndFlrSF to System Variable Second Floor Area\n",
      "https://localhost:4200/write/subgraph/3e0eb02d986a45d3a3d7ce50bb9813787ee4c0aba63315ca89bfd944a13c0a08\n"
     ]
    }
   ],
   "source": [
    "with system.SupervisedMLSession(config_path='local.json', authors=authors_ids) as session:\n",
    " \n",
    "    for max_depth, n_estimator, gamma in [\n",
    "        (3, 15, 0),\n",
    "        (3, 20, 0),\n",
    "        (4, 15, 0),\n",
    "        (2, 15, 0),\n",
    "        (3, 15, 0.01)\n",
    "    ]:\n",
    "        model = xgb.XGBClassifier(\n",
    "            max_depth=max_depth,\n",
    "            n_estimator=n_estimator,\n",
    "            gamma=gamma)\n",
    "        model.fit(mini_X_train.values, y_train)\n",
    "        evaluation = session.add_evaluation(\n",
    "            model,\n",
    "            mini_X_test,\n",
    "            pd.DataFrame(y_test),\n",
    "            initial_types=initial_type)\n",
    "        system_model = session.add_model(\n",
    "            target_name='SalePrice',\n",
    "            algorithm='XGBoost',\n",
    "            label=f'max_depth={max_depth}, n_estimator={n_estimator}, gamma={gamma}',\n",
    "            model_params=model.get_params(),\n",
    "            source_datasets=source_datasets,\n",
    "            model_population=population,\n",
    "            evaluation=evaluation,\n",
    "            neighborhoods=neighborhoods)\n",
    "    session.map_features_to_variables(feature_to_variable_map=feature_map)\n",
    "    session.add_experiment_metadata(\n",
    "        name=experiment2_name,\n",
    "        lede=experiment2_lede,\n",
    "        description=experiment2_description\n",
    "    )\n",
    "    session.submit()"
   ]
  },
  {
   "cell_type": "markdown",
   "metadata": {},
   "source": [
    "# Different Algorithms"
   ]
  },
  {
   "cell_type": "code",
   "execution_count": 22,
   "metadata": {},
   "outputs": [],
   "source": [
    "experiment3_name = \"Ames, Iowa housing price classifier with various classification algorithms.\"\n",
    "experiment3_lede = \"XBoost model to predict whether a house price is above median.\"\n",
    "experiment3_description = \"\"\"\n",
    "In this experiment, an XGBoost model was trained all the features found in Kaggle's Ames, Iowa housing price dataset.\n",
    "The top 20 most performat features was selected with Gain as the feature contribution method.\n",
    "Random Forest, Logistic Regression and XGBoost models were trained and tested.\n",
    "\"\"\""
   ]
  },
  {
   "cell_type": "code",
   "execution_count": 23,
   "metadata": {},
   "outputs": [],
   "source": [
    "import sklearn"
   ]
  },
  {
   "cell_type": "code",
   "execution_count": 24,
   "metadata": {},
   "outputs": [],
   "source": [
    "rf_model = sklearn.ensemble.RandomForestClassifier()\n",
    "logit_model = sklearn.linear_model.LogisticRegression()\n",
    "xgb_model = xgb.XGBClassifier(\n",
    "            max_depth=best_max_depth,\n",
    "            n_estimator=best_n_estimator,\n",
    "            gamma=best_gamma)"
   ]
  },
  {
   "cell_type": "code",
   "execution_count": 18,
   "metadata": {},
   "outputs": [
    {
     "name": "stdout",
     "output_type": "stream",
     "text": [
      "Setting Mehdi Jamei as an author.\n"
     ]
    },
    {
     "name": "stderr",
     "output_type": "stream",
     "text": [
      "The maximum opset needed by this model is only 1.\n"
     ]
    },
    {
     "name": "stdout",
     "output_type": "stream",
     "text": [
      "EVALUATOR OUTPUT 2019-10-09 10-55-25 Loading the ONNX Model...EVALUATOR OUTPUT 2019-10-09 10-55-25 SUCCESS...\n",
      "EVALUATOR OUTPUT 2019-10-09 10-55-25 Creating descriptive stats for X...EVALUATOR OUTPUT 2019-10-09 10-55-27 SUCCESS...\n",
      "EVALUATOR OUTPUT 2019-10-09 10-55-27 Creating descriptive stats for y...EVALUATOR OUTPUT 2019-10-09 10-55-27 SUCCESS...\n",
      "EVALUATOR OUTPUT 2019-10-09 10-55-27 Calculating model F1Score...EVALUATOR OUTPUT 2019-10-09 10-55-27 SUCCESS...\n",
      "EVALUATOR OUTPUT 2019-10-09 10-55-27 Calculating model AccuracyScore...EVALUATOR OUTPUT 2019-10-09 10-55-27 SUCCESS...\n",
      "EVALUATOR OUTPUT 2019-10-09 10-55-27 Calculating model RocAucScore...EVALUATOR OUTPUT 2019-10-09 10-55-28 SUCCESS...\n",
      "EVALUATOR OUTPUT 2019-10-09 10-55-28 Calculating model RocCurve...EVALUATOR OUTPUT 2019-10-09 10-55-28 SUCCESS...\n",
      "EVALUATOR OUTPUT 2019-10-09 10-55-28 Calculating model ConfusionMatrix...EVALUATOR OUTPUT 2019-10-09 10-55-28 SUCCESS...\n",
      "EVALUATOR OUTPUT 2019-10-09 10-55-28 Calculating permutation for F1Score...EVALUATOR OUTPUT 2019-10-09 10-55-30 SUCCESS...\n",
      "EVALUATOR OUTPUT 2019-10-09 10-55-30 Calculating permutation for AccuracyScore...EVALUATOR OUTPUT 2019-10-09 10-55-32 SUCCESS...\n",
      "EVALUATOR OUTPUT 2019-10-09 10-55-32 Calculating permutation for RocAucScore...EVALUATOR OUTPUT 2019-10-09 10-55-35 SUCCESS...\n",
      "EVALUATOR OUTPUT 2019-10-09 10-55-35 Calculating PDP...EVALUATOR OUTPUT 2019-10-09 10-56-01 SUCCESS...\n",
      "EVALUATOR OUTPUT 2019-10-09 10-56-01 Calculating Feature Interactions...EVALUATOR OUTPUT 2019-10-09 10-56-45 SUCCESS...\n",
      "EVALUATOR OUTPUT 2019-10-09 10-56-46 Finished...\n",
      "Setting Ames Housing Dataset as a dataset.\n",
      "Setting Real Estate as a neighborhood.\n"
     ]
    },
    {
     "name": "stderr",
     "output_type": "stream",
     "text": [
      "The maximum opset needed by this model is only 9.\n",
      "The maximum opset needed by this model is only 1.\n"
     ]
    },
    {
     "name": "stdout",
     "output_type": "stream",
     "text": [
      "EVALUATOR OUTPUT 2019-10-09 10-56-49 Loading the ONNX Model...EVALUATOR OUTPUT 2019-10-09 10-56-50 SUCCESS...\n",
      "EVALUATOR OUTPUT 2019-10-09 10-56-50 Creating descriptive stats for X...EVALUATOR OUTPUT 2019-10-09 10-56-51 SUCCESS...\n",
      "EVALUATOR OUTPUT 2019-10-09 10-56-51 Creating descriptive stats for y...EVALUATOR OUTPUT 2019-10-09 10-56-52 SUCCESS...\n",
      "EVALUATOR OUTPUT 2019-10-09 10-56-52 Calculating model F1Score...EVALUATOR OUTPUT 2019-10-09 10-56-52 SUCCESS...\n",
      "EVALUATOR OUTPUT 2019-10-09 10-56-52 Calculating model AccuracyScore...EVALUATOR OUTPUT 2019-10-09 10-56-52 SUCCESS...\n",
      "EVALUATOR OUTPUT 2019-10-09 10-56-52 Calculating model RocAucScore...EVALUATOR OUTPUT 2019-10-09 10-56-52 SUCCESS...\n",
      "EVALUATOR OUTPUT 2019-10-09 10-56-52 Calculating model RocCurve...EVALUATOR OUTPUT 2019-10-09 10-56-52 SUCCESS...\n",
      "EVALUATOR OUTPUT 2019-10-09 10-56-52 Calculating model ConfusionMatrix...EVALUATOR OUTPUT 2019-10-09 10-56-54 SUCCESS...\n",
      "EVALUATOR OUTPUT 2019-10-09 10-56-54 Calculating permutation for F1Score...EVALUATOR OUTPUT 2019-10-09 10-56-55 SUCCESS...\n",
      "EVALUATOR OUTPUT 2019-10-09 10-56-55 Calculating permutation for AccuracyScore...EVALUATOR OUTPUT 2019-10-09 10-56-56 SUCCESS...\n",
      "EVALUATOR OUTPUT 2019-10-09 10-56-56 Calculating permutation for RocAucScore...EVALUATOR OUTPUT 2019-10-09 10-56-59 SUCCESS...\n",
      "EVALUATOR OUTPUT 2019-10-09 10-56-59 Calculating PDP...EVALUATOR OUTPUT 2019-10-09 10-57-08 SUCCESS...\n",
      "EVALUATOR OUTPUT 2019-10-09 10-57-08 Calculating Feature Interactions...EVALUATOR OUTPUT 2019-10-09 10-57-29 SUCCESS...\n",
      "EVALUATOR OUTPUT 2019-10-09 10-57-29 Finished...\n",
      "Setting Ames Housing Dataset as a dataset.\n",
      "Setting Real Estate as a neighborhood.\n"
     ]
    },
    {
     "name": "stderr",
     "output_type": "stream",
     "text": [
      "The maximum opset needed by this model is only 9.\n",
      "The maximum opset needed by this model is only 1.\n"
     ]
    },
    {
     "name": "stdout",
     "output_type": "stream",
     "text": [
      "EVALUATOR OUTPUT 2019-10-09 10-57-30 Loading the ONNX Model...EVALUATOR OUTPUT 2019-10-09 10-57-30 SUCCESS...\n",
      "EVALUATOR OUTPUT 2019-10-09 10-57-30 Creating descriptive stats for X...EVALUATOR OUTPUT 2019-10-09 10-57-32 SUCCESS...\n",
      "EVALUATOR OUTPUT 2019-10-09 10-57-32 Creating descriptive stats for y...EVALUATOR OUTPUT 2019-10-09 10-57-32 SUCCESS...\n",
      "EVALUATOR OUTPUT 2019-10-09 10-57-32 Calculating model F1Score...EVALUATOR OUTPUT 2019-10-09 10-57-32 SUCCESS...\n",
      "EVALUATOR OUTPUT 2019-10-09 10-57-32 Calculating model AccuracyScore...EVALUATOR OUTPUT 2019-10-09 10-57-32 SUCCESS...\n",
      "EVALUATOR OUTPUT 2019-10-09 10-57-32 Calculating model RocAucScore...EVALUATOR OUTPUT 2019-10-09 10-57-32 SUCCESS...\n",
      "EVALUATOR OUTPUT 2019-10-09 10-57-32 Calculating model RocCurve...EVALUATOR OUTPUT 2019-10-09 10-57-32 SUCCESS...\n",
      "EVALUATOR OUTPUT 2019-10-09 10-57-32 Calculating model ConfusionMatrix...EVALUATOR OUTPUT 2019-10-09 10-57-32 SUCCESS...\n",
      "EVALUATOR OUTPUT 2019-10-09 10-57-32 Calculating permutation for F1Score...EVALUATOR OUTPUT 2019-10-09 10-57-34 SUCCESS...\n",
      "EVALUATOR OUTPUT 2019-10-09 10-57-34 Calculating permutation for AccuracyScore...EVALUATOR OUTPUT 2019-10-09 10-57-34 SUCCESS...\n",
      "EVALUATOR OUTPUT 2019-10-09 10-57-34 Calculating permutation for RocAucScore...EVALUATOR OUTPUT 2019-10-09 10-57-36 SUCCESS...\n",
      "EVALUATOR OUTPUT 2019-10-09 10-57-36 Calculating PDP...EVALUATOR OUTPUT 2019-10-09 10-57-43 SUCCESS...\n",
      "EVALUATOR OUTPUT 2019-10-09 10-57-43 Calculating Feature Interactions...EVALUATOR OUTPUT 2019-10-09 10-57-55 SUCCESS...\n",
      "EVALUATOR OUTPUT 2019-10-09 10-57-55 Finished...\n",
      "Setting Ames Housing Dataset as a dataset.\n",
      "Setting Real Estate as a neighborhood.\n",
      "Mapping YearBuilt to System Variable Built Year\n",
      "Mapping SalePrice to System Variable House Price is Above Median\n",
      "Mapping FullBath to System Variable Number of Bathrooms in Housing Unit\n",
      "Mapping OverallQual to System Variable Building Quality\n",
      "Mapping GarageFinish_Unf to System Variable Garage is Unfinished\n",
      "Mapping GarageType_Detchd to System Variable Garage is Detached\n",
      "Mapping Fireplaces to System Variable Number of Fireplaces\n",
      "Mapping BsmtQual_Gd to System Variable Basement Quality is Good\n",
      "Mapping KitchenQual_TA to System Variable Kitchen Quality is Typical\n",
      "Mapping GrLivArea to System Variable Above Ground Living Area\n",
      "Mapping YearRemodAdd to System Variable Remodel Year\n",
      "Mapping MSZoning_RM to System Variable Zoning is Residential Medium Density\n",
      "Mapping 1stFlrSF to System Variable First Floor Area\n",
      "Mapping GarageCars to System Variable Garage Size\n",
      "Mapping LotArea to System Variable Land Area of the property Square Feet\n",
      "Mapping KitchenAbvGr to System Variable Number of Kitchens in Housing Unit\n",
      "Mapping TotalBsmtSF to System Variable Basement Area\n",
      "Mapping ScreenPorch to System Variable Screen Porch Area\n",
      "Mapping MSZoning_RL to System Variable Zoning is Residential Low Density\n",
      "Mapping BsmtFinType1_GLQ to System Variable Basement Finished Area Quality is Good\n",
      "Mapping 2ndFlrSF to System Variable Second Floor Area\n",
      "https://localhost:4200/write/subgraph/dae7cb5c714242ffa041a41f0a35a718135df057426ba3030f25003642e6cc33\n"
     ]
    }
   ],
   "source": [
    "with system.SupervisedMLSession(config_path='local.json', authors=authors_ids) as session3:\n",
    " \n",
    "    for model in [xgb_model, rf_model, logit_model]:\n",
    "        model.fit(mini_X_train.values, y_train.astype(int))\n",
    "        evaluation = session3.add_evaluation(\n",
    "            model,\n",
    "            mini_X_test,\n",
    "            pd.DataFrame(y_test.astype(int)),\n",
    "            initial_types=initial_type)\n",
    "        system_model = session3.add_model(\n",
    "            target_name='SalePrice',\n",
    "            algorithm=model.__class__.__name__,\n",
    "            label=f'algorithm={model.__class__.__name__}',\n",
    "            model_params=model.get_params(),\n",
    "            source_datasets=source_datasets,\n",
    "            model_population=population,\n",
    "            evaluation=evaluation,\n",
    "            neighborhoods=neighborhoods)\n",
    "    session3.map_features_to_variables(feature_to_variable_map=feature_map)\n",
    "    session3.add_experiment_metadata(\n",
    "        name=experiment3_name,\n",
    "        lede=experiment3_lede,\n",
    "        description=experiment3_description\n",
    "    )\n",
    "    session3.submit()"
   ]
  },
  {
   "cell_type": "code",
   "execution_count": null,
   "metadata": {},
   "outputs": [],
   "source": []
  }
 ],
 "metadata": {
  "kernelspec": {
   "display_name": "Python 3",
   "language": "python",
   "name": "python3"
  },
  "language_info": {
   "codemirror_mode": {
    "name": "ipython",
    "version": 3
   },
   "file_extension": ".py",
   "mimetype": "text/x-python",
   "name": "python",
   "nbconvert_exporter": "python",
   "pygments_lexer": "ipython3",
   "version": "3.7.1"
  }
 },
 "nbformat": 4,
 "nbformat_minor": 2
}
